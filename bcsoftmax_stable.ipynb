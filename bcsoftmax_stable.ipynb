{
 "cells": [
  {
   "cell_type": "markdown",
   "id": "9cc9ec9e-6bcf-4cc7-8172-e1623ed4285d",
   "metadata": {},
   "source": [
    "# BCSoftmax Implementation"
   ]
  },
  {
   "cell_type": "code",
   "execution_count": 3,
   "id": "5829e75f-e4d8-45a9-9fc3-a62682f4c1e9",
   "metadata": {},
   "outputs": [],
   "source": [
    "import torch\n",
    "import numpy as np\n",
    "\n",
    "\n",
    "def _bcsoftmax1d(x, budget):\n",
    "    \"\"\"Budget Constrained Softmax function for vector.\n",
    "\n",
    "    Args:\n",
    "        x (Tensor): input vector. shape: (n_outputs, )\n",
    "        budget (Tensor): budget (constraint) vector. shape: (n_outputs, )\n",
    "\n",
    "    Returns:\n",
    "        y (Tensor): output probability vector. shape: (n_outputs, ). Satisfying the constraints y_i <= budget_i.\n",
    "    \n",
    "    \"\"\"\n",
    "    x = x - torch.max(x, dim=0)[0] # normalization to avoid numerical errors\n",
    "    exp_x = torch.exp(x)\n",
    "    # sorting\n",
    "    _, indices = torch.sort(budget / exp_x, descending=False)\n",
    "    exp_x = exp_x[indices]\n",
    "    budget = budget[indices]\n",
    "    # find K_B\n",
    "    r = torch.flip(torch.cumsum(torch.flip(exp_x, dims=(0, )), dim=0), dims=(0, ))\n",
    "    s = 1.0 - (torch.cumsum(budget, dim=0) - budget)\n",
    "    z = r / s\n",
    "    is_in_KB = torch.logical_and(\n",
    "        (s - budget) > 0, exp_x / z > budget\n",
    "    )\n",
    "    # compute outputs\n",
    "    s = 1 - torch.sum(budget * is_in_KB)\n",
    "    r = torch.sum(exp_x * (~is_in_KB))\n",
    "    y = torch.where(~is_in_KB, s * exp_x / r, budget)\n",
    "    # undo sorting\n",
    "    _, inv_indices = torch.sort(indices, descending=False)\n",
    "    return y[inv_indices]\n",
    "\n",
    "\n",
    "def _bcsoftmax1d_stable(x, budget):\n",
    "    \"\"\"Budget Constrained Softmax function for vector.\n",
    "    This function is more numerically stable than `_bcsoftmax1d` by computing some values in log-scale.\n",
    "    \n",
    "    Args:\n",
    "        x (Tensor): input vector. shape: (n_outputs, )\n",
    "        budget (Tensor): budget (constraint) vector. shape: (n_outputs, )\n",
    "\n",
    "    Returns:\n",
    "        y (Tensor): output probability vector. shape: (n_outputs, ). Satisfying the constraints y_i <= budget_i.\n",
    "    \n",
    "    \"\"\"\n",
    "    # sorting\n",
    "    _, indices = torch.sort(torch.log(budget) - x, descending=False)\n",
    "    x = x[indices]\n",
    "    budget = budget[indices]\n",
    "    # find K_B\n",
    "    log_r = torch.flip(torch.logcumsumexp(torch.flip(x, dims=(0, )), dim=0), dims=(0, ))\n",
    "    s = 1.0 - (torch.cumsum(budget, dim=0) - budget)\n",
    "    is_in_KB = torch.logical_or(\n",
    "        budget == 0,\n",
    "        torch.logical_and(\n",
    "            s - budget > 0,\n",
    "            x - log_r + torch.log(s) > torch.log(budget)\n",
    "        )\n",
    "    )\n",
    "    # compute outputs\n",
    "    exp_x = torch.exp(x - torch.max(torch.where(~is_in_KB, x, -torch.inf), dim=0)[0])\n",
    "    s = 1 - torch.sum(budget * is_in_KB)\n",
    "    r = torch.sum(exp_x * (~is_in_KB))\n",
    "    y = torch.where(~is_in_KB, s * exp_x / r, budget)\n",
    "    # undo sorting\n",
    "    _, inv_indices = torch.sort(indices, descending=False)\n",
    "    return y[inv_indices]\n",
    "\n",
    "\n",
    "class BCSoftmax1d(torch.autograd.Function):\n",
    "    \"\"\"Autograd implementation of Budget Constrained Softmax function for vector.\n",
    "    \"\"\"\n",
    "    generate_vmap_rule = True\n",
    "    \n",
    "    @staticmethod\n",
    "    def forward(x, c):\n",
    "        y = _bcsoftmax1d_stable(x, c)\n",
    "        return y\n",
    "\n",
    "    @staticmethod\n",
    "    def setup_context(ctx, inputs, output):\n",
    "        x, c = inputs\n",
    "        is_in_KB = c == output\n",
    "        ctx.save_for_backward(x, c, is_in_KB)\n",
    "    \n",
    "    @staticmethod\n",
    "    def backward(ctx, grad_y):\n",
    "        x, c, is_in_KB = ctx.saved_tensors\n",
    "        exp_x = torch.exp(\n",
    "            x - torch.max(torch.where(~is_in_KB, x, -torch.inf), dim=0)[0]\n",
    "        )\n",
    "        s = 1 - torch.sum(c * is_in_KB)\n",
    "        r = torch.sum(exp_x * (~is_in_KB))\n",
    "        \n",
    "        # compute Jacobian\n",
    "        Jx = torch.where(\n",
    "            torch.outer(~is_in_KB, ~is_in_KB),\n",
    "            torch.diag(~is_in_KB * exp_x) * r - torch.outer(exp_x, exp_x),\n",
    "            0,\n",
    "        )\n",
    "        Jx *= torch.where(\n",
    "            s > 0,\n",
    "            s / (r * r),\n",
    "            0\n",
    "        )\n",
    "        Jc = torch.where(\n",
    "            torch.outer(~is_in_KB, is_in_KB),\n",
    "            - exp_x[:, None] / r,\n",
    "            1.0 * torch.diag(is_in_KB)\n",
    "        )\n",
    "        # return vector-Jacobian product\n",
    "        return torch.matmul(grad_y, Jx), torch.matmul(grad_y, Jc)\n"
   ]
  },
  {
   "cell_type": "code",
   "execution_count": null,
   "id": "43d3f542-6bdf-4f25-a2d9-11e6815984c2",
   "metadata": {},
   "outputs": [],
   "source": []
  },
  {
   "cell_type": "code",
   "execution_count": 4,
   "id": "fc6849f3-4155-4785-81e0-e48b9d26d260",
   "metadata": {},
   "outputs": [],
   "source": [
    "######### Use these functions! #########\n",
    "bcsoftmax1d = BCSoftmax1d.apply\n",
    "bcsoftmax2d = torch.vmap(BCSoftmax1d.apply) # input shape = (batch_size, n_classes)"
   ]
  },
  {
   "cell_type": "code",
   "execution_count": 5,
   "id": "7be5d7c4-6a07-404e-bbdc-b342138875c3",
   "metadata": {},
   "outputs": [],
   "source": [
    "def _bcsoftmax1d_naive(x, budget):\n",
    "    \"\"\"A naive implementation of bcsoftmax1d for testing.\n",
    "    \"\"\"\n",
    "    x = x - torch.max(x, dim=0)[0] # normalization to avoid numerical errors\n",
    "    exp_x = torch.exp(x)\n",
    "    y = exp_x / torch.sum(exp_x)\n",
    "    is_in_KB = torch.zeros_like(x, dtype=torch.bool)\n",
    "    for _ in range(len(x)):\n",
    "        is_in_KB = torch.logical_or(is_in_KB, y > budget)\n",
    "        s = 1 - torch.sum(budget[is_in_KB])\n",
    "        r = torch.sum(exp_x[~is_in_KB])\n",
    "        y = torch.where(\n",
    "            is_in_KB,\n",
    "            budget,\n",
    "            s * exp_x / r \n",
    "        )\n",
    "    return y\n",
    "\n",
    "batch_size = 32\n",
    "n_classes = 10\n",
    "\n",
    "for c in np.arange(1, 21) / 20.0:\n",
    "    # generates data\n",
    "    X = torch.randn(batch_size, n_classes, dtype=torch.double) * 2\n",
    "    X = X.requires_grad_()\n",
    "\n",
    "    while True:\n",
    "        budget = c + ((1-c) * torch.rand(batch_size, n_classes, dtype=torch.double))\n",
    "        budget = budget.requires_grad_()\n",
    "        if torch.all(torch.sum(budget, dim=1) > 1):\n",
    "            break    \n",
    "    # forward testing: comparing with naive implementation\n",
    "    actual = bcsoftmax2d(X, budget)\n",
    "    expected = torch.vstack([_bcsoftmax1d_naive(x_i, budget_i) for x_i, budget_i in zip(X, budget)])\n",
    "    torch.testing.assert_close(\n",
    "        actual, expected,\n",
    "    )\n",
    "    assert torch.all(actual <= budget), \"Budget Constraint Error\"\n",
    "    \n",
    "    # backward testing: gradcheck\n",
    "    torch.autograd.gradcheck(bcsoftmax2d, (X, budget))\n",
    "\n",
    "# forward testing: bcsoftmax(x, budget) = softmax(x) if budget_i >= 1.0 for all i\n",
    "actual = bcsoftmax2d(X, torch.ones_like(X))\n",
    "torch.testing.assert_close(\n",
    "    actual,\n",
    "    torch.nn.functional.softmax(X, dim=1),\n",
    ")"
   ]
  },
  {
   "cell_type": "code",
   "execution_count": 6,
   "id": "783835e4-3b8e-45a0-b082-77f0b7cec24a",
   "metadata": {},
   "outputs": [
    {
     "data": {
      "text/plain": [
       "tensor([2.5000e-01, 2.5000e-01, 2.5000e-01, 2.5000e-01, 1.3803e-42, 3.4213e-45,\n",
       "        3.4213e-45, 3.4213e-45, 3.4213e-45, 3.4213e-45], dtype=torch.float64)"
      ]
     },
     "metadata": {},
     "output_type": "display_data"
    },
    {
     "data": {
      "text/plain": [
       "tensor([2.5000e-01, 2.5000e-01, 2.5000e-01, 2.5000e-01, 1.3803e-42, 3.4213e-45,\n",
       "        3.4213e-45, 3.4213e-45, 3.4213e-45, 3.4213e-45], dtype=torch.float64)"
      ]
     },
     "metadata": {},
     "output_type": "display_data"
    },
    {
     "data": {
      "text/plain": [
       "tensor([2.5000e-01, 2.5000e-01, 2.5000e-01, 2.5000e-01, 1.3803e-42, 3.4213e-45,\n",
       "        3.4213e-45, 3.4213e-45, 3.4213e-45, 3.4213e-45], dtype=torch.float64)"
      ]
     },
     "metadata": {},
     "output_type": "display_data"
    },
    {
     "data": {
      "text/plain": [
       "tensor([0.0000e+00, 3.0000e-01, 3.0000e-01, 3.0000e-01, 9.8776e-02, 2.4484e-04,\n",
       "        2.4484e-04, 2.4484e-04, 2.4484e-04, 2.4484e-04], dtype=torch.float64)"
      ]
     },
     "metadata": {},
     "output_type": "display_data"
    },
    {
     "data": {
      "text/plain": [
       "tensor([0.0000e+00, 3.0000e-01, 3.0000e-01, 3.0000e-01, 9.8776e-02, 2.4484e-04,\n",
       "        2.4484e-04, 2.4484e-04, 2.4484e-04, 2.4484e-04], dtype=torch.float64)"
      ]
     },
     "metadata": {},
     "output_type": "display_data"
    },
    {
     "data": {
      "text/plain": [
       "tensor([0.0000e+00, 3.0000e-01, 3.0000e-01, 3.0000e-01, 9.8776e-02, 2.4484e-04,\n",
       "        2.4484e-04, 2.4484e-04, 2.4484e-04, 2.4484e-04], dtype=torch.float64)"
      ]
     },
     "metadata": {},
     "output_type": "display_data"
    },
    {
     "data": {
      "text/plain": [
       "tensor([0.1000, 0.1000, 0.1000, 0.1000, 0.1000, 0.1000, 0.1000, 0.1000, 0.1000,\n",
       "        0.1000], dtype=torch.float64)"
      ]
     },
     "metadata": {},
     "output_type": "display_data"
    },
    {
     "data": {
      "text/plain": [
       "tensor([0.1000, 0.1000, 0.1000, 0.1000, 0.1000, 0.1000, 0.1000, 0.1000, 0.1000,\n",
       "        0.1000], dtype=torch.float64)"
      ]
     },
     "metadata": {},
     "output_type": "display_data"
    },
    {
     "data": {
      "text/plain": [
       "tensor([0.1000, 0.1000, 0.1000, 0.1000, 0.1000, 0.1000, 0.1000, 0.1000, 0.1000,\n",
       "        0.1000], dtype=torch.float64)"
      ]
     },
     "metadata": {},
     "output_type": "display_data"
    }
   ],
   "source": [
    "# corner test\n",
    "x = torch.tensor(np.array([100, 100, 100, 100, 5, -1, -1, -1, -1, -1], dtype=np.float64))\n",
    "budget = torch.ones_like(x) * 0.3\n",
    "display(_bcsoftmax1d(x, budget), _bcsoftmax1d_stable(x, budget), _bcsoftmax1d_naive(x, budget))\n",
    "budget[0] = 0\n",
    "display(_bcsoftmax1d(x, budget), _bcsoftmax1d_stable(x, budget), _bcsoftmax1d_naive(x, budget))\n",
    "budget = torch.ones_like(x) * 0.1\n",
    "display(_bcsoftmax1d(x, budget), _bcsoftmax1d_stable(x, budget), _bcsoftmax1d_naive(x, budget))"
   ]
  },
  {
   "cell_type": "markdown",
   "id": "e56e4456-c11b-48be-88c7-0e19aad8129f",
   "metadata": {},
   "source": [
    "## MNIST Example"
   ]
  },
  {
   "cell_type": "code",
   "execution_count": 7,
   "id": "1a365d0d-2f0a-41de-a5da-6e3168de65ff",
   "metadata": {},
   "outputs": [],
   "source": [
    "import argparse\n",
    "import torch\n",
    "import torch.nn as nn\n",
    "import torch.nn.functional as F\n",
    "import torch.optim as optim\n",
    "from torchvision import datasets, transforms\n",
    "from torch.optim.lr_scheduler import StepLR\n",
    "\n",
    "\n",
    "class Net(nn.Module):\n",
    "    def __init__(self):\n",
    "        super(Net, self).__init__()\n",
    "        self.conv1 = nn.Conv2d(1, 32, 3, 1)\n",
    "        self.conv2 = nn.Conv2d(32, 64, 3, 1)\n",
    "        self.dropout1 = nn.Dropout(0.25)\n",
    "        self.dropout2 = nn.Dropout(0.5)\n",
    "        self.fc1 = nn.Linear(9216, 128)\n",
    "        self.fc2 = nn.Linear(128, 10)\n",
    "\n",
    "    def forward(self, x, c):\n",
    "        x = self.conv1(x)\n",
    "        x = F.relu(x)\n",
    "        x = self.conv2(x)\n",
    "        x = F.relu(x)\n",
    "        x = F.max_pool2d(x, 2)\n",
    "        x = self.dropout1(x)\n",
    "        x = torch.flatten(x, 1)\n",
    "        x = self.fc1(x)\n",
    "        x = F.relu(x)\n",
    "        x = self.dropout2(x)\n",
    "        x = self.fc2(x)\n",
    "        output = torch.log(bcsoftmax2d(x, c))\n",
    "        return output\n",
    "\n",
    "\n",
    "def train(model, device, train_loader, optimizer, epoch, max_budget, log_interval):\n",
    "    model.train()\n",
    "    for batch_idx, (data, target) in enumerate(train_loader):\n",
    "        data, target = data.to(device), target.to(device)\n",
    "        optimizer.zero_grad()\n",
    "        output = model(data, torch.ones(len(target), 10).to(device) * max_budget)\n",
    "        loss = F.nll_loss(output, target)\n",
    "        loss.backward()\n",
    "        optimizer.step()\n",
    "        if batch_idx % log_interval == 0:\n",
    "            print(\n",
    "                'Train Epoch: {} [{}/{} ({:.0f}%)]\\tLoss: {:.6f}\\t max_prob: {:.3f}'.format(\n",
    "                    epoch,\n",
    "                    batch_idx * len(data),\n",
    "                    len(train_loader.dataset),\n",
    "                    100. * batch_idx / len(train_loader),\n",
    "                    loss.item(),\n",
    "                    torch.max(torch.softmax(output, dim=1))\n",
    "                )\n",
    "             )\n",
    "            \n",
    "\n",
    "def test(model, device, test_loader, max_budget):\n",
    "    model.eval()\n",
    "    test_loss = 0\n",
    "    correct = 0\n",
    "    with torch.no_grad():\n",
    "        for data, target in test_loader:\n",
    "            data, target = data.to(device), target.to(device)\n",
    "            output = model(data, torch.ones(len(target), 10).to(device) * max_budget)\n",
    "            test_loss += F.nll_loss(output, target, reduction='sum').item()  # sum up batch loss\n",
    "            pred = output.argmax(dim=1, keepdim=True)  # get the index of the max log-probability\n",
    "            correct += pred.eq(target.view_as(pred)).sum().item()\n",
    "\n",
    "    test_loss /= len(test_loader.dataset)\n",
    "\n",
    "    print(\n",
    "        'Test set: Average loss: {:.4f}, Accuracy: {}/{} ({:.0f}%)'.format(\n",
    "            test_loss,\n",
    "            correct,\n",
    "            len(test_loader.dataset),\n",
    "            100. * correct / len(test_loader.dataset)\n",
    "        )\n",
    "    )"
   ]
  },
  {
   "cell_type": "markdown",
   "id": "64bdd44a-9b01-4b7b-89d5-7d696353abf3",
   "metadata": {},
   "source": [
    "### Load dataset"
   ]
  },
  {
   "cell_type": "code",
   "execution_count": 8,
   "id": "f381740f-e63d-49e0-aca5-10da714451d3",
   "metadata": {},
   "outputs": [],
   "source": [
    "use_cuda = torch.cuda.is_available()\n",
    "use_mps = torch.backends.mps.is_available()\n",
    "\n",
    "torch.manual_seed(0)\n",
    "\n",
    "if use_cuda:\n",
    "    device = torch.device(\"cuda\")\n",
    "elif use_mps:\n",
    "    device = torch.device(\"mps\")\n",
    "else:\n",
    "    device = torch.device(\"cpu\")\n",
    "\n",
    "\n",
    "transform=transforms.Compose(\n",
    "    [\n",
    "        transforms.ToTensor(),\n",
    "        transforms.Normalize((0.1307,), (0.3081,))\n",
    "    ]\n",
    ")\n",
    "dataset1 = datasets.MNIST(\n",
    "    './data', train=True, download=True, transform=transform\n",
    ")\n",
    "dataset2 = datasets.MNIST(\n",
    "    './data', train=False, transform=transform\n",
    ")"
   ]
  },
  {
   "cell_type": "markdown",
   "id": "7449690e-042a-471c-96ac-dc9c30b2f324",
   "metadata": {},
   "source": [
    "### Run experiments with max_budget = 0.3, 0.6, 0.9"
   ]
  },
  {
   "cell_type": "code",
   "execution_count": null,
   "id": "2475f55b-660c-46bf-a9df-953fcdf1cf35",
   "metadata": {},
   "outputs": [
    {
     "name": "stdout",
     "output_type": "stream",
     "text": [
      "Max Budget: 0.3\n",
      "Train Epoch: 1 [0/60000 (0%)]\tLoss: 2.304713\t max_prob: 0.142\n",
      "Test set: Average loss: 1.2103, Accuracy: 5739/10000 (57%)\n",
      "Train Epoch: 2 [0/60000 (0%)]\tLoss: 1.206304\t max_prob: 0.300\n",
      "Test set: Average loss: 1.2072, Accuracy: 5898/10000 (59%)\n",
      "Train Epoch: 3 [0/60000 (0%)]\tLoss: 1.208513\t max_prob: 0.300\n",
      "Test set: Average loss: 1.2064, Accuracy: 5629/10000 (56%)\n",
      "Train Epoch: 4 [0/60000 (0%)]\tLoss: 1.203972\t max_prob: 0.300\n",
      "Test set: Average loss: 1.2067, Accuracy: 5389/10000 (54%)\n",
      "Train Epoch: 5 [0/60000 (0%)]\tLoss: 1.203972\t max_prob: 0.300\n",
      "Test set: Average loss: 1.2059, Accuracy: 5717/10000 (57%)\n",
      "Train Epoch: 6 [0/60000 (0%)]\tLoss: 1.205749\t max_prob: 0.300\n",
      "Test set: Average loss: 1.2057, Accuracy: 5771/10000 (58%)\n",
      "Train Epoch: 7 [0/60000 (0%)]\tLoss: 1.204504\t max_prob: 0.300\n",
      "Test set: Average loss: 1.2055, Accuracy: 5835/10000 (58%)\n",
      "Train Epoch: 8 [0/60000 (0%)]\tLoss: 1.203972\t max_prob: 0.300\n",
      "Test set: Average loss: 1.2056, Accuracy: 5769/10000 (58%)\n",
      "Train Epoch: 9 [0/60000 (0%)]\tLoss: 1.205635\t max_prob: 0.300\n",
      "Test set: Average loss: 1.2057, Accuracy: 5683/10000 (57%)\n",
      "Train Epoch: 10 [0/60000 (0%)]\tLoss: 1.209564\t max_prob: 0.300\n",
      "Test set: Average loss: 1.2057, Accuracy: 5656/10000 (57%)\n",
      "\n",
      "Max Budget: 0.6\n",
      "Train Epoch: 1 [0/60000 (0%)]\tLoss: 2.303815\t max_prob: 0.130\n",
      "Test set: Average loss: 0.5294, Accuracy: 9817/10000 (98%)\n",
      "Train Epoch: 2 [0/60000 (0%)]\tLoss: 0.525886\t max_prob: 0.600\n",
      "Test set: Average loss: 0.5229, Accuracy: 9858/10000 (99%)\n",
      "Train Epoch: 3 [0/60000 (0%)]\tLoss: 0.512301\t max_prob: 0.600\n",
      "Test set: Average loss: 0.5233, Accuracy: 9860/10000 (99%)\n",
      "Train Epoch: 4 [0/60000 (0%)]\tLoss: 0.517633\t max_prob: 0.600\n"
     ]
    }
   ],
   "source": [
    "batch_size = 128\n",
    "test_batch_size = 128\n",
    "lr = 1.0\n",
    "gamma = 0.7\n",
    "epochs = 10\n",
    "log_interval = 1000\n",
    "\n",
    "for max_budget in [0.3, 0.6, 0.9]:\n",
    "    print(f\"Max Budget: {max_budget}\")\n",
    "    train_kwargs = {'batch_size': batch_size}\n",
    "    test_kwargs = {'batch_size': test_batch_size}\n",
    "    if use_cuda:\n",
    "        cuda_kwargs = {\n",
    "            'num_workers': 1,\n",
    "            'pin_memory': True,\n",
    "            'shuffle': True\n",
    "        }\n",
    "        train_kwargs.update(cuda_kwargs)\n",
    "        test_kwargs.update(cuda_kwargs)\n",
    "    \n",
    "    train_loader = torch.utils.data.DataLoader(dataset1, **train_kwargs)\n",
    "    test_loader = torch.utils.data.DataLoader(dataset2, **test_kwargs)\n",
    "    \n",
    "    model = Net().to(device)\n",
    "    optimizer = optim.Adadelta(model.parameters(), lr=lr)\n",
    "    \n",
    "    scheduler = StepLR(optimizer, step_size=1, gamma=gamma)\n",
    "    for epoch in range(1, epochs + 1):\n",
    "        train(model, device, train_loader, optimizer, epoch, max_budget, log_interval)\n",
    "        test(model, device, test_loader, max_budget)\n",
    "        scheduler.step()\n",
    "    print()"
   ]
  },
  {
   "cell_type": "code",
   "execution_count": null,
   "id": "8d29999b-0819-440d-a706-6b1250f3aef5",
   "metadata": {},
   "outputs": [],
   "source": []
  },
  {
   "cell_type": "code",
   "execution_count": null,
   "id": "e689361d-8bd3-49d8-a3fc-689c4fb9e30b",
   "metadata": {},
   "outputs": [],
   "source": []
  }
 ],
 "metadata": {
  "kernelspec": {
   "display_name": "Python 3 (ipykernel)",
   "language": "python",
   "name": "python3"
  },
  "language_info": {
   "codemirror_mode": {
    "name": "ipython",
    "version": 3
   },
   "file_extension": ".py",
   "mimetype": "text/x-python",
   "name": "python",
   "nbconvert_exporter": "python",
   "pygments_lexer": "ipython3",
   "version": "3.11.10"
  }
 },
 "nbformat": 4,
 "nbformat_minor": 5
}
