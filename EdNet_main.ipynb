{
 "cells": [
  {
   "cell_type": "code",
   "execution_count": 21,
   "metadata": {},
   "outputs": [],
   "source": [
    "import pandas as pd\n",
    "from tqdm import tqdm\n",
    "from collections import defaultdict\n",
    "import os\n",
    "import matplotlib.pyplot as plt\n",
    "import numpy as np\n",
    "import random\n",
    "import logging\n",
    "\n",
    "import torch\n",
    "import torch.nn as nn\n",
    "import torch.nn.functional as F\n",
    "\n",
    "from EduCDM import EMDINA as DINA"
   ]
  },
  {
   "cell_type": "code",
   "execution_count": 2,
   "metadata": {},
   "outputs": [
    {
     "name": "stdout",
     "output_type": "stream",
     "text": [
      "CUDA available: False\n",
      "MPS available: True\n",
      "Using device: cpu\n"
     ]
    }
   ],
   "source": [
    "# MPSでサポートしていない演算を実行する際に、CPUにフォールバックするように設定\n",
    "os.environ[\"PYTORCH_ENABLE_MPS_FALLBACK\"] = \"1\"\n",
    "\n",
    "use_cuda = torch.cuda.is_available()\n",
    "use_mps = torch.backends.mps.is_available()\n",
    "\n",
    "if use_cuda:\n",
    "    device = torch.device(\"cuda\")\n",
    "# elif use_mps:\n",
    "#     device = torch.device(\"mps\")\n",
    "else:\n",
    "    device = torch.device(\"cpu\")\n",
    "    \n",
    "print(f\"CUDA available: {use_cuda}\")\n",
    "print(f\"MPS available: {use_mps}\")\n",
    "print(f\"Using device: {device}\")"
   ]
  },
  {
   "cell_type": "code",
   "execution_count": 3,
   "metadata": {},
   "outputs": [],
   "source": [
    "def set_seed(seed):\n",
    "    random.seed(seed)  # Pythonのrandomモジュールのシードを固定\n",
    "    np.random.seed(seed)  # NumPyのシードを固定\n",
    "    torch.manual_seed(seed)  # PyTorchのCPUシードを固定\n",
    "    torch.cuda.manual_seed(seed)  # PyTorchのGPUシードを固定\n",
    "    torch.cuda.manual_seed_all(seed)  # マルチGPU環境でのシード固定\n",
    "    torch.backends.cudnn.deterministic = True  # 再現性のためにCuDNNを固定\n",
    "    torch.backends.cudnn.benchmark = False  # 再現性のためにCuDNNベンチマークをOFF\n",
    "\n",
    "set_seed(0)"
   ]
  },
  {
   "cell_type": "markdown",
   "metadata": {},
   "source": [
    "## 実データ(EdNet)"
   ]
  },
  {
   "cell_type": "markdown",
   "metadata": {},
   "source": [
    "### 演習データ読み込み"
   ]
  },
  {
   "cell_type": "code",
   "execution_count": 4,
   "metadata": {},
   "outputs": [
    {
     "name": "stdout",
     "output_type": "stream",
     "text": [
      "    question_id                                              users  user_count\n",
      "926       q8098  [u145488, u50282, u61533, u11235, u237242, u92...      232037\n",
      "489       q8074  [u50282, u61533, u11235, u237242, u92681, u220...      228334\n",
      "397        q176  [u50282, u263254, u61533, u11235, u237242, u22...      227029\n",
      "927       q1279  [u50282, u61533, u11235, u237242, u351207, u22...      203468\n",
      "940       q6185  [u50282, u263254, u61533, u11235, u237242, u36...      191156\n"
     ]
    }
   ],
   "source": [
    "# user_question.csv ファイルを読み込み\n",
    "\"\"\"\n",
    "question_id,users\n",
    "ex:q3628,\"u20746,u21660,u20556,u21202,u21240\"\n",
    "\"\"\"\n",
    "question_users = pd.read_csv(\"question_user.csv\")\n",
    "\n",
    "# 解かれている問題が多い順に並べ替え\n",
    "# \"users\" カラムに split を適用してリストに変換\n",
    "question_users[\"users\"] = question_users[\"users\"].apply(lambda x: x.split(\",\"))\n",
    "\n",
    "# 各質問に対するユーザー数を計算\n",
    "question_users[\"user_count\"] = question_users[\"users\"].apply(len)\n",
    "\n",
    "# user_count を基準に降順で並べ替え\n",
    "question_users = question_users.sort_values(by=\"user_count\", ascending=False)\n",
    "\n",
    "print(question_users.head())"
   ]
  },
  {
   "cell_type": "code",
   "execution_count": 5,
   "metadata": {},
   "outputs": [
    {
     "name": "stdout",
     "output_type": "stream",
     "text": [
      "Top 10 questions: ['q8098', 'q8074', 'q176', 'q1279', 'q6185', 'q6243', 'q2068', 'q2067', 'q2069', 'q4178']\n",
      "Number of common users: 158607\n",
      "Common users: ['u100001', 'u100002', 'u100003', 'u100004', 'u100005', 'u100007', 'u100008', 'u100009', 'u100010', 'u100011']\n"
     ]
    }
   ],
   "source": [
    "# topk 個の質問に回答している学生のみを抽出\n",
    "topk = 10\n",
    "top_questions = question_users[\"question_id\"].head(topk).tolist()\n",
    "\n",
    "# topk の質問に関連付けられたユーザーを絞り込み\n",
    "if top_questions:\n",
    "    # 対応するユーザーを取得し、セットとして管理\n",
    "    common_users = set.intersection(\n",
    "        *(\n",
    "            set(question_users.loc[question_users[\"question_id\"] == question, \"users\"].iloc[0])\n",
    "            for question in top_questions\n",
    "        )\n",
    "    )\n",
    "else:\n",
    "    common_users = set()\n",
    "\n",
    "# ユーザーのリストをソート\n",
    "common_users = sorted(common_users)\n",
    "\n",
    "# 結果を出力\n",
    "print(f\"Top {topk} questions: {top_questions}\")\n",
    "print(f\"Number of common users: {len(common_users)}\")\n",
    "print(f\"Common users: {list(common_users)[:10]}\")"
   ]
  },
  {
   "cell_type": "markdown",
   "metadata": {},
   "source": [
    "### Q行列の作成"
   ]
  },
  {
   "cell_type": "code",
   "execution_count": 6,
   "metadata": {},
   "outputs": [
    {
     "name": "stdout",
     "output_type": "stream",
     "text": [
      "Unique tags: ['100', '11', '145', '179', '182', '183', '184', '2', '24', '26', '5', '52', '55', '6', '7', '75']\n",
      "問題×スキル: 10×16\n",
      "[[0 0 0 0 1 0 0 1 0 0 1 0 0 0 0 0]\n",
      " [0 1 0 0 0 1 0 0 0 0 0 0 0 0 1 0]\n",
      " [0 0 0 0 0 1 0 0 0 0 0 0 0 1 1 0]\n",
      " [0 0 0 0 1 0 1 0 1 1 0 0 0 0 0 0]\n",
      " [0 0 1 0 0 0 0 0 0 0 0 0 0 0 0 0]\n",
      " [1 0 0 0 0 0 0 0 0 0 0 0 0 0 0 0]\n",
      " [0 0 0 0 0 1 1 0 0 0 0 0 1 0 0 0]\n",
      " [0 0 0 0 0 1 1 0 0 0 0 1 0 0 0 0]\n",
      " [0 0 0 1 0 1 1 0 0 0 0 1 0 0 0 0]\n",
      " [0 0 0 0 0 0 0 0 0 0 0 0 0 0 0 1]]\n"
     ]
    }
   ],
   "source": [
    "# questions.csv から該当するtagsを取得\n",
    "questions_file_path = 'questions.csv'\n",
    "questions_df = pd.read_csv(questions_file_path)\n",
    "\n",
    "# top_questions に対応するデータを抽出\n",
    "filtered_questions = questions_df[questions_df[\"question_id\"].isin(top_questions)]\n",
    "\n",
    "# 対応表の作成。問題にスキルを紐づける\n",
    "question_tag_mapping = filtered_questions[[\"question_id\", \"tags\"]]\n",
    "question_tag_mapping = question_tag_mapping.copy()\n",
    "question_tag_mapping[\"tags\"] = question_tag_mapping[\"tags\"].apply(lambda x: x.split(\";\"))\n",
    "\n",
    "# スキルと問題の行と列のインデックスを定義\n",
    "all_tags = [tag for tags in question_tag_mapping[\"tags\"] for tag in tags]\n",
    "unique_tags = set(all_tags)\n",
    "unique_tags = sorted(unique_tags)\n",
    "question_index_mapping = {qid: idx for idx, qid in enumerate(top_questions)} # 回答者が多い順になっている\n",
    "tag_index_mapping = {tag: idx for idx, tag in enumerate(unique_tags)} # スキルの番号順\n",
    "\n",
    "# Q行列を作成\n",
    "Q_matrix = np.zeros((len(top_questions), len(unique_tags)), dtype=int)\n",
    "for _, row in question_tag_mapping.iterrows():\n",
    "    question_id = row[\"question_id\"]\n",
    "    if question_id in question_index_mapping:  # top_questions に存在する場合のみ処理\n",
    "        question_idx = question_index_mapping[question_id]\n",
    "        for tag in row[\"tags\"]:\n",
    "            if tag in tag_index_mapping:\n",
    "                tag_idx = tag_index_mapping[tag]\n",
    "                Q_matrix[question_idx, tag_idx] = 1\n",
    "\n",
    "print(f\"Unique tags: {unique_tags}\")\n",
    "print(f\"問題×スキル: {len(Q_matrix)}×{len(unique_tags)}\")\n",
    "print(Q_matrix)\n",
    "# print(question_tag_mapping)"
   ]
  },
  {
   "cell_type": "markdown",
   "metadata": {},
   "source": [
    "### 2回分のテストを作成"
   ]
  },
  {
   "cell_type": "code",
   "execution_count": 7,
   "metadata": {},
   "outputs": [
    {
     "name": "stderr",
     "output_type": "stream",
     "text": [
      "100%|██████████| 158607/158607 [03:07<00:00, 848.16it/s]\n"
     ]
    }
   ],
   "source": [
    "# ユーザーそれぞれの演習ファイル\n",
    "folder_path = \"KT1\"\n",
    "\n",
    "# 正誤結果を記録するリスト\n",
    "R = []\n",
    "R2 = []\n",
    "\n",
    "max_users = 500\n",
    "count_users = 0\n",
    "\n",
    "n_questions = len(top_questions)\n",
    "\n",
    "# 該当学生のファイルのみ処理\n",
    "for user_id in tqdm(common_users):\n",
    "    file_path = os.path.join(folder_path, f\"{user_id}.csv\")\n",
    "    \n",
    "    if os.path.isfile(file_path):\n",
    "        user_df = pd.read_csv(file_path)\n",
    "        \n",
    "        # 前後半に分割\n",
    "        mid_index = len(user_df) // 2\n",
    "        first_half = user_df.iloc[:mid_index]\n",
    "        second_half = user_df.iloc[mid_index:]\n",
    "        \n",
    "        # 前半部分に top_questions がすべて含まれているかを判定\n",
    "        questions_in_first_half = set(first_half[\"question_id\"])\n",
    "        all_included_first_half = set(top_questions).issubset(questions_in_first_half)\n",
    "        # 後半部分に top_questions がすべて含まれているかを判定\n",
    "        questions_in_second_half = set(second_half[\"question_id\"])\n",
    "        all_included_second_half = set(top_questions).issubset(questions_in_second_half)\n",
    "\n",
    "        # 前後半ともに含んでいた場合\n",
    "        if all_included_first_half and all_included_second_half:\n",
    "            # 個人の回答結果\n",
    "            R_list = [None] * n_questions\n",
    "            R2_list = [None] * n_questions\n",
    "\n",
    "            # top_questions に含まれる問題をフィルタリング\n",
    "            \"\"\"注意：最も直近の値が格納されている\"\"\"\n",
    "            # 1回目テスト\n",
    "            first_questions = first_half[first_half[\"question_id\"].isin(top_questions)]\n",
    "            # 正解判定\n",
    "            for _, question_row in first_questions.iterrows():\n",
    "                question_id = question_row[\"question_id\"]\n",
    "                user_answer = question_row[\"user_answer\"]\n",
    "                \n",
    "                # 正解を取得\n",
    "                correct_answer = questions_df.loc[questions_df[\"question_id\"] == question_id, \"correct_answer\"].iloc[0]\n",
    "                \n",
    "                # 判定：正解なら1、不正解なら0\n",
    "                is_correct = 1 if user_answer == correct_answer else 0\n",
    "                \n",
    "                # R の該当箇所に結果を記録\n",
    "                # user_idx = user_index_mapping[user_id]  # ユーザーのインデックス\n",
    "                question_idx = top_questions.index(question_id)  # 質問のインデックス\n",
    "                R_list[question_idx] = is_correct\n",
    "            R.append(R_list)\n",
    "\n",
    "            # 2回目テスト\n",
    "            second_questions = second_half[second_half[\"question_id\"].isin(top_questions)]\n",
    "            # 正解判定\n",
    "            for _, question in second_questions.iterrows():\n",
    "                question_id = question[\"question_id\"]\n",
    "                user_answer = question[\"user_answer\"]\n",
    "                \n",
    "                # 正解を取得\n",
    "                correct_answer = questions_df.loc[questions_df[\"question_id\"] == question_id, \"correct_answer\"].iloc[0]\n",
    "                \n",
    "                is_correct = 1 if user_answer == correct_answer else 0\n",
    "\n",
    "                question_idx = top_questions.index(question_id)\n",
    "                R2_list[question_idx] = is_correct\n",
    "            R2.append(R2_list)\n",
    "\n",
    "R = np.array(R, dtype=float)\n",
    "R2 = np.array(R2, dtype=float)\n",
    "np.save(\"R.npy\", R)\n",
    "np.save(\"R2.npy\", R2)"
   ]
  },
  {
   "cell_type": "code",
   "execution_count": null,
   "metadata": {},
   "outputs": [],
   "source": [
    "R = np.load(\"R.npy\")\n",
    "R2 = np.load(\"R2.npy\")\n",
    "\n",
    "# 同期シャッフル用のインデックスを生成\n",
    "shuffle_indices = np.random.permutation(R.shape[0])\n",
    "\n",
    "# インデックスを適用してシャッフル\n",
    "R = R[shuffle_indices]\n",
    "R2 = R2[shuffle_indices]\n",
    "\n",
    "# 学生数\n",
    "# print(f\"Number of students: {R.shape}\")\n",
    "# print(f\"Number of students: {R2.shape}\")\n",
    "\n",
    "# **None と NaN の確認関数** \n",
    "def check_missing_values(array, name):\n",
    "    # None の検出\n",
    "    if np.any(array == None):  # `is None` は配列全体には使えないため `== None` を使用\n",
    "        print(f\"⚠️ アラート: {name} に 'None' が含まれています。\")\n",
    "\n",
    "    # NaN の検出\n",
    "    if np.issubdtype(array.dtype, np.number):  # 数値型のときのみ np.isnan を使う\n",
    "        if np.isnan(array).any():\n",
    "            print(f\"⚠️ アラート: {name} に 'NaN' が含まれています。\")\n",
    "\n",
    "# チェック実行\n",
    "check_missing_values(R, \"R\")\n",
    "check_missing_values(R2, \"R2\")"
   ]
  },
  {
   "cell_type": "code",
   "execution_count": 9,
   "metadata": {},
   "outputs": [
    {
     "name": "stdout",
     "output_type": "stream",
     "text": [
      "R matrix:\n",
      "(283, 10)\n",
      "[[1. 1. 1. 1. 0. 1. 0. 0. 0. 1.]\n",
      " [1. 1. 0. 1. 0. 0. 0. 0. 1. 0.]\n",
      " [1. 0. 0. 0. 1. 0. 1. 1. 0. 0.]]\n",
      "R2 matrix:\n",
      "(283, 10)\n",
      "[[1. 1. 1. 1. 1. 1. 1. 1. 1. 1.]\n",
      " [0. 1. 1. 1. 1. 1. 1. 1. 0. 1.]\n",
      " [1. 1. 0. 0. 0. 0. 1. 0. 0. 1.]]\n",
      "新たに正解した数: 598\n",
      "新たに間違えた数: 319\n"
     ]
    }
   ],
   "source": [
    "# # NumPy 配列の全表示設定\n",
    "np.set_printoptions(threshold=np.inf)\n",
    "\n",
    "# 結果を表示\n",
    "print(\"R matrix:\")\n",
    "print(R.shape)\n",
    "print(R[:3])\n",
    "\n",
    "print(\"R2 matrix:\")\n",
    "print(R2.shape)\n",
    "print(R2[:3])\n",
    "\n",
    "diff = R2-R\n",
    "\n",
    "# 1 の数をカウント\n",
    "count_1 = np.count_nonzero(diff == 1)\n",
    "# -1 の数をカウント\n",
    "count_minus_1 = np.count_nonzero(diff == -1)\n",
    "\n",
    "print(f\"新たに正解した数: {count_1}\")\n",
    "print(f\"新たに間違えた数: {count_minus_1}\")"
   ]
  },
  {
   "cell_type": "markdown",
   "metadata": {},
   "source": [
    "## CDM（認知診断モデル）"
   ]
  },
  {
   "cell_type": "code",
   "execution_count": 10,
   "metadata": {},
   "outputs": [],
   "source": [
    "# ファイルを設定\n",
    "CDM_dir = \"./EdNet_CDM\"\n",
    "os.makedirs(CDM_dir, exist_ok=True)\n"
   ]
  },
  {
   "cell_type": "markdown",
   "metadata": {},
   "source": [
    "### 1回目習得スキル"
   ]
  },
  {
   "cell_type": "code",
   "execution_count": 11,
   "metadata": {},
   "outputs": [
    {
     "name": "stderr",
     "output_type": "stream",
     "text": [
      "INFO:root:save parameters to ./EdNet_CDM/EdNet_dina_model.params\n",
      "evaluating: 100%|██████████| 2830/2830 [00:00<00:00, 1064658.74it/s]"
     ]
    },
    {
     "name": "stdout",
     "output_type": "stream",
     "text": [
      "RMSE: 0.305491, MAE: 0.206669\n"
     ]
    },
    {
     "name": "stderr",
     "output_type": "stream",
     "text": [
      "\n"
     ]
    }
   ],
   "source": [
    "# データの形状取得\n",
    "stu_num, prob_num = R.shape\n",
    "_, know_num = Q_matrix.shape\n",
    "\n",
    "# ログレベルを設定\n",
    "logging.getLogger().setLevel(logging.INFO)\n",
    "\n",
    "# DINAモデルの初期化\n",
    "cdm = DINA(R, Q_matrix, stu_num, prob_num, know_num, skip_value=-1)# モデルの訓練\n",
    "\n",
    "cdm.train(epoch=10, epsilon=1e-3)  # epochやepsilonは調整可能\n",
    "\n",
    "# 訓練済みモデルの保存\n",
    "CDM_path = os.path.join(CDM_dir, 'EdNet_dina_model.params')\n",
    "cdm.save(CDM_path)\n",
    "\n",
    "# モデルの評価 (RMSE, MAE)\n",
    "rmse, mae = cdm.eval([{'user_id': i, 'item_id': j, 'score': R[i, j]}\n",
    "                      for i in range(stu_num) for j in range(prob_num) if R[i, j] != -1])\n",
    "print(\"RMSE: %.6f, MAE: %.6f\" % (rmse, mae))\n"
   ]
  },
  {
   "cell_type": "markdown",
   "metadata": {},
   "source": [
    "### 2回目習得スキル"
   ]
  },
  {
   "cell_type": "code",
   "execution_count": 12,
   "metadata": {},
   "outputs": [
    {
     "name": "stderr",
     "output_type": "stream",
     "text": [
      "INFO:root:save parameters to ./EdNet_CDM/EdNet_dina_model_2.params\n",
      "evaluating: 100%|██████████| 2830/2830 [00:00<00:00, 1078785.81it/s]"
     ]
    },
    {
     "name": "stdout",
     "output_type": "stream",
     "text": [
      "RMSE: 0.489786, MAE: 0.353234\n"
     ]
    },
    {
     "name": "stderr",
     "output_type": "stream",
     "text": [
      "\n"
     ]
    }
   ],
   "source": [
    "# データの形状取得\n",
    "stu_num, prob_num = R2.shape\n",
    "_, know_num = Q_matrix.shape\n",
    "\n",
    "# ログレベルを設定\n",
    "logging.getLogger().setLevel(logging.INFO)\n",
    "\n",
    "# DINAモデルの初期化\n",
    "cdm2 = DINA(R2, Q_matrix, stu_num, prob_num, know_num, skip_value=-1)# モデルの訓練\n",
    "\n",
    "cdm2.train(epoch=10, epsilon=1e-3)  # epochやepsilonは調整可能\n",
    "\n",
    "# 訓練済みモデルの保存\n",
    "CDM_path2 = os.path.join(CDM_dir, 'EdNet_dina_model_2.params')\n",
    "cdm2.save(CDM_path2)\n",
    "\n",
    "# モデルの評価 (RMSE, MAE)\n",
    "rmse, mae = cdm.eval([{'user_id': i, 'item_id': j, 'score': R2[i, j]}\n",
    "                      for i in range(stu_num) for j in range(prob_num) if R2[i, j] != -1])\n",
    "print(\"RMSE: %.6f, MAE: %.6f\" % (rmse, mae))"
   ]
  },
  {
   "cell_type": "markdown",
   "metadata": {},
   "source": [
    "### 習得スキル"
   ]
  },
  {
   "cell_type": "code",
   "execution_count": 13,
   "metadata": {},
   "outputs": [
    {
     "name": "stderr",
     "output_type": "stream",
     "text": [
      "INFO:root:load parameters from ./EdNet_CDM/EdNet_dina_model.params\n"
     ]
    }
   ],
   "source": [
    "# 学習済みモデルのパラメータをロード\n",
    "CDM_path = os.path.join(CDM_dir, 'EdNet_dina_model.params')\n",
    "cdm.load(CDM_path)\n",
    "\n",
    "attributes = []\n",
    "# 学生ごとのアトリビュート（知識状態）を取得\n",
    "for stu_id in range(cdm.stu_num):\n",
    "    # 学生の状態IDを取得\n",
    "    state_id = cdm.theta[stu_id]\n",
    "    # 状態IDに対応する知識状態（バイナリベクトル）\n",
    "    knowledge_state = cdm.all_states[state_id]\n",
    "    attributes.append(knowledge_state)\n",
    "    # print(f\"Student {stu_id}: State ID = {state_id}, Knowledge State = {knowledge_state}\")\n",
    "\n",
    "attributes = np.array(attributes)"
   ]
  },
  {
   "cell_type": "code",
   "execution_count": 14,
   "metadata": {},
   "outputs": [
    {
     "name": "stderr",
     "output_type": "stream",
     "text": [
      "INFO:root:load parameters from ./EdNet_CDM/EdNet_dina_model_2.params\n"
     ]
    }
   ],
   "source": [
    "# 学習済みモデルのパラメータをロード\n",
    "CDM_path2 = os.path.join(CDM_dir, 'EdNet_dina_model_2.params')\n",
    "cdm2.load(CDM_path2)\n",
    "\n",
    "attributes2 = []\n",
    "# 学生ごとのアトリビュート（知識状態）を取得\n",
    "for stu_id in range(cdm2.stu_num):\n",
    "    # 学生の状態IDを取得\n",
    "    state_id = cdm2.theta[stu_id]\n",
    "    # 状態IDに対応する知識状態（バイナリベクトル）\n",
    "    knowledge_state = cdm2.all_states[state_id]\n",
    "    attributes2.append(knowledge_state)\n",
    "    # print(f\"Student {stu_id}: State ID = {state_id}, Knowledge State = {knowledge_state}\")\n",
    "\n",
    "attributes2 = np.array(attributes2)"
   ]
  },
  {
   "cell_type": "code",
   "execution_count": 15,
   "metadata": {},
   "outputs": [
    {
     "name": "stdout",
     "output_type": "stream",
     "text": [
      "新たに習得した数: 815\n",
      "新たに失った数: 374\n"
     ]
    }
   ],
   "source": [
    "attributes_diff = attributes2 - attributes\n",
    "# 1 の数をカウント\n",
    "count_1 = np.count_nonzero(attributes_diff == 1)\n",
    "# -1 の数をカウント\n",
    "count_minus_1 = np.count_nonzero(attributes_diff == -1)\n",
    "\n",
    "print(f\"新たに習得した数: {count_1}\")\n",
    "print(f\"新たに失った数: {count_minus_1}\")"
   ]
  },
  {
   "cell_type": "code",
   "execution_count": 16,
   "metadata": {},
   "outputs": [
    {
     "name": "stdout",
     "output_type": "stream",
     "text": [
      "[[0. 0. 1. 1. 0. 0. 0. 0. 0. 0. 0. 1. 1. 0. 0. 0.]\n",
      " [1. 0. 1. 0. 0. 0. 0. 0. 0. 0. 0. 1. 1. 1. 0. 1.]\n",
      " [0. 1. 0. 0. 0. 0. 0. 0. 0. 0. 0. 0. 0. 0. 1. 1.]]\n",
      "[[1. 1. 0. 0. 1. 1. 1. 1. 1. 1. 1. 0. 0. 1. 1. 1.]\n",
      " [0. 1. 0. 0. 1. 1. 1. 1. 1. 1. 1. 0. 0. 0. 1. 0.]\n",
      " [0. 0. 1. 0. 1. 1. 1. 1. 0. 0. 1. 1. 1. 0. 0. 0.]]\n",
      "283\n"
     ]
    }
   ],
   "source": [
    "# 学習者は1度習得したスキルは失わないと仮定\n",
    "# 要素ごとのOR演算\n",
    "attributes1or2 = np.logical_or(attributes2, attributes).astype(int)\n",
    "get_attributes = attributes1or2 - np.array(attributes)\n",
    "print(get_attributes[:3])\n",
    "print(attributes[:3])\n",
    "print(len(get_attributes))"
   ]
  },
  {
   "cell_type": "markdown",
   "metadata": {},
   "source": [
    "## モデル"
   ]
  },
  {
   "cell_type": "markdown",
   "metadata": {},
   "source": [
    "### アーキテクチャ"
   ]
  },
  {
   "cell_type": "code",
   "execution_count": 18,
   "metadata": {},
   "outputs": [],
   "source": [
    "def _bcsoftmax1d_stable(x, budget):\n",
    "    \"\"\"Budget Constrained Softmax function for vector.\n",
    "    This function is more numerically stable than `_bcsoftmax1d` by computing some values in log-scale.\n",
    "    \n",
    "    Args:\n",
    "        x (Tensor): input vector. shape: (n_outputs, )\n",
    "        budget (Tensor): budget (constraint) vector. shape: (n_outputs, )\n",
    "\n",
    "    Returns:\n",
    "        y (Tensor): output probability vector. shape: (n_outputs, ). Satisfying the constraints y_i <= budget_i.\n",
    "    \n",
    "    \"\"\"\n",
    "    # sorting\n",
    "    _, indices = torch.sort(torch.log(budget) - x, descending=False)\n",
    "    x = x[indices]\n",
    "    budget = budget[indices]\n",
    "    # find K_B\n",
    "    log_r = torch.flip(torch.logcumsumexp(torch.flip(x, dims=(0, )), dim=0), dims=(0, ))\n",
    "    s = 1.0 - (torch.cumsum(budget, dim=0) - budget)\n",
    "    is_in_KB = torch.logical_or(\n",
    "        budget == 0,\n",
    "        torch.logical_and(\n",
    "            s - budget > 0,\n",
    "            x - log_r + torch.log(s) > torch.log(budget)\n",
    "        )\n",
    "    )\n",
    "    # compute outputs\n",
    "    exp_x = torch.exp(x - torch.max(torch.where(~is_in_KB, x, -torch.inf), dim=0)[0])\n",
    "    s = 1 - torch.sum(budget * is_in_KB)\n",
    "    r = torch.sum(exp_x * (~is_in_KB))\n",
    "    y = torch.where(~is_in_KB, s * exp_x / r, budget)\n",
    "    # undo sorting\n",
    "    _, inv_indices = torch.sort(indices, descending=False)\n",
    "    return y[inv_indices]\n",
    "\n",
    "\n",
    "class BCSoftmax1d(torch.autograd.Function):\n",
    "    \"\"\"Autograd implementation of Budget Constrained Softmax function for vector.\n",
    "    \"\"\"\n",
    "    generate_vmap_rule = True\n",
    "    \n",
    "    @staticmethod\n",
    "    def forward(x, c):\n",
    "        y = _bcsoftmax1d_stable(x, c)\n",
    "        return y\n",
    "\n",
    "    @staticmethod\n",
    "    def setup_context(ctx, inputs, output):\n",
    "        x, c = inputs\n",
    "        is_in_KB = c == output\n",
    "        ctx.save_for_backward(x, c, is_in_KB)\n",
    "    \n",
    "    @staticmethod\n",
    "    def backward(ctx, grad_y):\n",
    "        x, c, is_in_KB = ctx.saved_tensors\n",
    "        exp_x = torch.exp(\n",
    "            x - torch.max(torch.where(~is_in_KB, x, -torch.inf), dim=0)[0]\n",
    "        )\n",
    "        s = 1 - torch.sum(c * is_in_KB)\n",
    "        r = torch.sum(exp_x * (~is_in_KB))\n",
    "        \n",
    "        # compute Jacobian\n",
    "        Jx = torch.where(\n",
    "            torch.outer(~is_in_KB, ~is_in_KB),\n",
    "            torch.diag(~is_in_KB * exp_x) * r - torch.outer(exp_x, exp_x),\n",
    "            0,\n",
    "        )\n",
    "        Jx *= torch.where(\n",
    "            s > 0,\n",
    "            s / (r * r),\n",
    "            0\n",
    "        )\n",
    "        Jc = torch.where(\n",
    "            torch.outer(~is_in_KB, is_in_KB),\n",
    "            - exp_x[:, None] / r,\n",
    "            1.0 * torch.diag(is_in_KB)\n",
    "        )\n",
    "\n",
    "        # return vector-Jacobian product\n",
    "        return torch.matmul(grad_y, Jx), torch.matmul(grad_y, Jc)"
   ]
  },
  {
   "cell_type": "code",
   "execution_count": 19,
   "metadata": {},
   "outputs": [
    {
     "ename": "NameError",
     "evalue": "name 'nn' is not defined",
     "output_type": "error",
     "traceback": [
      "\u001b[0;31m---------------------------------------------------------------------------\u001b[0m",
      "\u001b[0;31mNameError\u001b[0m                                 Traceback (most recent call last)",
      "Cell \u001b[0;32mIn[19], line 5\u001b[0m\n\u001b[1;32m      1\u001b[0m bcsoftmax1d \u001b[38;5;241m=\u001b[39m BCSoftmax1d\u001b[38;5;241m.\u001b[39mapply\n\u001b[1;32m      2\u001b[0m \u001b[38;5;66;03m# バッチを処理するとき\u001b[39;00m\n\u001b[1;32m      3\u001b[0m \u001b[38;5;66;03m# bcsoftmax2d = torch.vmap(BCSoftmax1d.apply) # input shape = (batch_size, n_classes)\u001b[39;00m\n\u001b[0;32m----> 5\u001b[0m \u001b[38;5;28;01mclass\u001b[39;00m \u001b[38;5;21;01mModel\u001b[39;00m(\u001b[43mnn\u001b[49m\u001b[38;5;241m.\u001b[39mModule):\n\u001b[1;32m      6\u001b[0m     \u001b[38;5;28;01mdef\u001b[39;00m \u001b[38;5;21m__init__\u001b[39m(\u001b[38;5;28mself\u001b[39m, num_components):\n\u001b[1;32m      7\u001b[0m         \u001b[38;5;28msuper\u001b[39m(Model, \u001b[38;5;28mself\u001b[39m)\u001b[38;5;241m.\u001b[39m\u001b[38;5;21m__init__\u001b[39m()\n",
      "\u001b[0;31mNameError\u001b[0m: name 'nn' is not defined"
     ]
    }
   ],
   "source": [
    "bcsoftmax1d = BCSoftmax1d.apply\n",
    "# バッチを処理するとき\n",
    "# bcsoftmax2d = torch.vmap(BCSoftmax1d.apply) # input shape = (batch_size, n_classes)\n",
    "\n",
    "class Model(nn.Module):\n",
    "    def __init__(self, num_components):\n",
    "        super(Model, self).__init__()\n",
    "        self.fc = nn.Linear(num_components, num_components)  # 全結合層\n",
    "\n",
    "    def forward(self, x, c):\n",
    "        x = self.fc(x)  # 全結合層の適用\n",
    "        x = bcsoftmax1d(x, c)\n",
    "        return x"
   ]
  },
  {
   "cell_type": "markdown",
   "metadata": {},
   "source": [
    "### 学習・評価"
   ]
  },
  {
   "cell_type": "code",
   "execution_count": 28,
   "metadata": {},
   "outputs": [],
   "source": [
    "def l1(model):\n",
    "    l1_reg = torch.tensor(0., requires_grad=True)\n",
    "    for param in model.parameters():\n",
    "        l1_reg = l1_reg + torch.sum(torch.abs(param))\n",
    "    return l1_reg\n",
    "\n",
    "def l2(model):\n",
    "    l2_reg = torch.tensor(0., requires_grad=True)\n",
    "    for param in model.parameters():\n",
    "        l2_reg = l2_reg + torch.sum(torch.pow(param, 2))\n",
    "    return l2_reg\n",
    "\n",
    "def train(model, n_skills, device, X_train, y_val, criterion, optimizer, hyp, reg):\n",
    "    model.train()\n",
    "\n",
    "    outputs = []\n",
    "    relu = nn.ReLU()\n",
    "    # データによってループ回数が異なる\n",
    "    for i, target in enumerate(y_val):\n",
    "        # 初期budget\n",
    "        c = torch.ones(n_skills, dtype=torch.float32, device=device)\n",
    "        c = c - X_train[i]\n",
    "        state = X_train[i].to(device) # .to(device)は新しいテンソルを返す処理だから.clone()は不要\n",
    "\n",
    "        # 習得数だけループ\n",
    "        for _ in range(int(sum(target))):\n",
    "            # もしcの和が1なら、rが0となってしまう\n",
    "            if c.sum() <= 1:\n",
    "                prob = c\n",
    "            else:\n",
    "                prob = model(state, c)  # 状態から遷移確率を計算\n",
    "            state = prob + state  # 状態の更新\n",
    "            c = relu(c - prob)  # budgetの更新\n",
    "\n",
    "        outputs.append(state - X_train[i])  # 最終的な出力を保存\n",
    "    \n",
    "    outputs = torch.stack(outputs) # 全て合わせる\n",
    "\n",
    "    # 正則化項\n",
    "    loss_o = criterion(outputs, y_val)\n",
    "    if reg == 'L1':\n",
    "        loss = loss_o + hyp * l1(model)\n",
    "    elif reg == 'L2':\n",
    "        loss = loss_o + hyp * l2(model)\n",
    "    else:\n",
    "        loss = loss_o\n",
    "\n",
    "    optimizer.zero_grad()\n",
    "    loss.backward()\n",
    "    optimizer.step()\n",
    "\n",
    "    return float(loss)\n",
    "\n",
    "def val_loss(model, n_skills, device, X_val, y_val, criterion, hyp, reg):\n",
    "    model.eval()\n",
    "    relu = nn.ReLU()\n",
    "\n",
    "    with torch.no_grad():\n",
    "        val_outputs = []\n",
    "        for i, target in enumerate(y_val):\n",
    "            c = torch.ones(n_skills, dtype=torch.float32, device=device)\n",
    "            c = c - X_val[i]\n",
    "            state = X_val[i].to(device)\n",
    "\n",
    "            # 習得数だけループ\n",
    "            for _ in range(int(sum(target))):\n",
    "                # もしcの和が1なら、rが0となってしまう\n",
    "                if c.sum() <= 1:\n",
    "                    prob = c\n",
    "                else:\n",
    "                    prob = model(state, c)  # 状態から遷移確率を計算\n",
    "                state = prob + state  # 状態の更新\n",
    "                c = relu(c - prob)  # 予算の更新\n",
    "\n",
    "            val_outputs.append(state - X_val[i])\n",
    "\n",
    "        val_outputs = torch.stack(val_outputs)\n",
    "\n",
    "        # 正則化項\n",
    "        loss_o = criterion(val_outputs, y_val)\n",
    "        if reg == 'L1':\n",
    "            loss = loss_o + hyp * l1(model)\n",
    "        elif reg == 'L2':\n",
    "            loss = loss_o + hyp * l2(model)\n",
    "        else:\n",
    "            loss = loss_o\n",
    "\n",
    "    return float(loss)\n",
    "\n",
    "def train_model(args, n_skills, model, X_train, y_train, X_val, y_val, criterion, optimizer):\n",
    "    # 試行ごとのロスを記録\n",
    "    training_losses = []\n",
    "    validation_losses = []\n",
    "    # ロスの初期化\n",
    "    best_loss = float('inf')\n",
    "    count = 0 # 早期終了のカウント\n",
    "    for epoch in range(args.epochs):\n",
    "        train_loss = train(model, n_skills, device, X_train, y_train, criterion, optimizer, args.hyperparameter, args.Regularization)\n",
    "        valid_loss = val_loss(model, n_skills, device, X_val, y_val, criterion, args.hyperparameter, args.Regularization)\n",
    "        best_loss = min(best_loss, valid_loss)\n",
    "        \n",
    "        training_losses.append(train_loss)\n",
    "        validation_losses.append(valid_loss)\n",
    "\n",
    "        if (epoch+1) % 100 == 0:\n",
    "            print(f'Epoch {epoch+1}, Loss: {train_loss:.4f}')\n",
    "\n",
    "        if best_loss < valid_loss:\n",
    "            count += 1\n",
    "        else:\n",
    "            count = 0\n",
    "            # torch.save(model.state_dict(), f\"{model}_{args}.pth\") # モデルの保存\n",
    "            \n",
    "        if count >= args.early_stopping:\n",
    "            print(f\"Early stopping at epoch {epoch}\")\n",
    "            break\n",
    "    print(f\"Best validation loss: {best_loss:.4f}\")\n",
    "    return training_losses, validation_losses"
   ]
  },
  {
   "cell_type": "markdown",
   "metadata": {},
   "source": [
    "### データ分割"
   ]
  },
  {
   "cell_type": "code",
   "execution_count": 29,
   "metadata": {},
   "outputs": [],
   "source": [
    "# データをトレーニングと検証に分割（正解数のバランスが良くなるように分割）\n",
    "# 7:3に分割\n",
    "def split_balanced_data(train_X, train_Y, ratio=0.7):\n",
    "    data_per_correct_count = defaultdict(list)\n",
    "    for x, y in zip(train_X, train_Y):\n",
    "        correct_count = sum(y)\n",
    "        data_per_correct_count[correct_count].append((x, y))\n",
    "\n",
    "    X_train, y_train, X_val, y_val = [], [], [], []\n",
    "    for correct_count, data in data_per_correct_count.items():\n",
    "        split_index = int(len(data) * ratio)\n",
    "        train_data = data[:split_index]\n",
    "        val_data = data[split_index:]\n",
    "        X_train.extend([x for x, _ in train_data])\n",
    "        y_train.extend([y for _, y in train_data])\n",
    "        X_val.extend([x for x, _ in val_data])\n",
    "        y_val.extend([y for _, y in val_data])\n",
    "    return X_train, y_train, X_val, y_val"
   ]
  },
  {
   "cell_type": "markdown",
   "metadata": {},
   "source": [
    "## 実験"
   ]
  },
  {
   "cell_type": "markdown",
   "metadata": {},
   "source": [
    "### 設定"
   ]
  },
  {
   "cell_type": "code",
   "execution_count": null,
   "metadata": {},
   "outputs": [],
   "source": [
    "import argparse\n",
    "\n",
    "parser = argparse.ArgumentParser()\n",
    "\n",
    "# 要素（問題）数・依存行列の種類。実験回数\n",
    "parser.add_argument('--component_size', type=int  , default=16    , help='number of components')\n",
    "parser.add_argument('--num_paterns'   , type=int  , default=1    , help='number of patterns')\n",
    "parser.add_argument('--trials'        , type=int  , default=1    , help='number of trials')\n",
    "\n",
    "# 学習\n",
    "parser.add_argument('--epochs'        , type=int  , default=1500 , help='number of epochs')\n",
    "parser.add_argument('--lr'            , type=float, default=0.001 , help='learning rate')\n",
    "parser.add_argument('--early_stopping', type=int  , default=10   , help='number of epochs for early stopping')\n",
    "\n",
    "# データ生成\n",
    "parser.add_argument('--split_ratio'   , type=float, default=0.8  , help='split ratio of training and validation data')\n",
    "parser.add_argument('--num_stepdata'  , type=int  , default=40   , help='number of data per step')\n",
    "parser.add_argument('--all_path'      , type=bool , default=False, help='use all path or not')\n",
    "\n",
    "# 正則化\n",
    "parser.add_argument('--Regularization', type=str  , default='L1' , help='Regularization, L1 or L2 or None')\n",
    "parser.add_argument('--hyperparameter', type=float, default=0.001, help='hyperparameter for regularization')\n",
    "\n",
    "# テスト用のダミー引数\n",
    "args, unknown = parser.parse_known_args()\n",
    "print('args:', args)"
   ]
  },
  {
   "cell_type": "code",
   "execution_count": null,
   "metadata": {},
   "outputs": [],
   "source": [
    "# データの分割\n",
    "# 上限モデルの学習用\n",
    "split = 0.8\n",
    "train_data1 = attributes[:int(len(attributes) * split)]\n",
    "train_data2 = get_attributes[:int(len(get_attributes) * split)]\n",
    "# print(train_data2)\n",
    "\n",
    "# 比較用\n",
    "test_input = attributes[int(len(attributes) * split):]\n",
    "test_target = get_attributes[int(len(get_attributes) * split):]"
   ]
  },
  {
   "cell_type": "code",
   "execution_count": 30,
   "metadata": {},
   "outputs": [],
   "source": [
    "def model_train(attributes, data_X, data_Y, args, model, criterion, optimizer, save_path):\n",
    "    num_components = len(attributes[0])\n",
    "    # データ生成\n",
    "    X_init = np.array([0] * num_components)\n",
    "    n_s = len(attributes)\n",
    "    print(\"n_components\", num_components)\n",
    "    print(\"n_s\", n_s)\n",
    "\n",
    "    train_X_data, train_Y_data, val_X_data, val_Y_data = split_balanced_data(data_X, data_Y, args.split_ratio)\n",
    "\n",
    "    # PyTorch テンソルに変換\n",
    "    train_X = torch.tensor(train_X_data, dtype=torch.float32)\n",
    "    train_Y = torch.tensor(train_Y_data, dtype=torch.float32)\n",
    "    val_X = torch.tensor(val_X_data, dtype=torch.float32)\n",
    "    val_Y = torch.tensor(val_Y_data, dtype=torch.float32)\n",
    "\n",
    "    print(f\"Train data: {len(train_X)}, Validation data: {len(val_X)}\")\n",
    "    print(f\"Train X: {train_X.shape}, Train Y: {train_Y.shape}\")\n",
    "\n",
    "    # ロスの初期化\n",
    "    best_val_loss = float('inf')\n",
    "    valid_loss_min = float('inf')\n",
    "    early_stopping_count = 0\n",
    "\n",
    "    # 試行ごとのロス値を記録するリスト\n",
    "    training_losses = []\n",
    "    validation_losses = []\n",
    "    \n",
    "    for epoch in range(args.epochs):\n",
    "        train_loss = train(model, num_components, device, train_X, train_Y, criterion, optimizer, epoch, args.hyperparameter, args.Regularization)\n",
    "        valid_loss = val_loss(model, num_components, device, val_X, val_Y, criterion, args.hyperparameter, args.Regularization)\n",
    "        valid_loss_min = min(valid_loss_min, valid_loss)\n",
    "        \n",
    "        training_losses.append(train_loss)\n",
    "        validation_losses.append(valid_loss)\n",
    "\n",
    "        if valid_loss_min < valid_loss:\n",
    "            early_stopping_count += 1\n",
    "        else:\n",
    "            early_stopping_count = 0\n",
    "            torch.save(model.state_dict(), save_path)\n",
    "            \n",
    "        if early_stopping_count >= args.early_stopping:\n",
    "            print(f\"Early stopping at epoch {epoch}\")\n",
    "            break\n",
    "\n",
    "    print(f\"Best validation loss: {valid_loss_min}\")\n",
    "\n",
    "    return training_losses, validation_losses"
   ]
  },
  {
   "cell_type": "markdown",
   "metadata": {},
   "source": [
    "#### 保存先"
   ]
  },
  {
   "cell_type": "code",
   "execution_count": 31,
   "metadata": {},
   "outputs": [],
   "source": [
    "save_folder = \"./EdNet_model\"\n",
    "os.makedirs(save_folder, exist_ok=True)\n",
    "upper_save_path = os.path.join(save_folder, f\"upper_model_{args}_EdNet.pth\")\n",
    "proposed_save_path = os.path.join(save_folder, f\"proposed_model_{args}_EdNet.pth\")"
   ]
  },
  {
   "cell_type": "markdown",
   "metadata": {},
   "source": [
    "### 上限比較モデル"
   ]
  },
  {
   "cell_type": "markdown",
   "metadata": {},
   "source": [
    "データを8:2に分けて、8のうち「空集合からattributes1まで」と「attributes1からattributes2まで」を学習データとする。"
   ]
  },
  {
   "cell_type": "code",
   "execution_count": 32,
   "metadata": {},
   "outputs": [
    {
     "name": "stdout",
     "output_type": "stream",
     "text": [
      "n_components 16\n",
      "n_s 283\n",
      "Train data: 355, Validation data: 97\n",
      "Train X: torch.Size([355, 16]), Train Y: torch.Size([355, 16])\n"
     ]
    },
    {
     "name": "stderr",
     "output_type": "stream",
     "text": [
      "/var/folders/zg/773ptkr55z99zw26dvy19_v00000gn/T/ipykernel_17960/1100528345.py:12: UserWarning: Creating a tensor from a list of numpy.ndarrays is extremely slow. Please consider converting the list to a single numpy.ndarray with numpy.array() before converting to a tensor. (Triggered internally at /Users/runner/work/pytorch/pytorch/pytorch/torch/csrc/utils/tensor_new.cpp:281.)\n",
      "  train_X = torch.tensor(train_X_data, dtype=torch.float32)\n"
     ]
    },
    {
     "name": "stdout",
     "output_type": "stream",
     "text": [
      "Epoch 100, Loss: 0.6719\n",
      "Epoch 200, Loss: 0.6569\n",
      "Epoch 300, Loss: 0.6517\n",
      "Epoch 400, Loss: 0.6493\n",
      "Epoch 500, Loss: 0.6476\n",
      "Epoch 600, Loss: 0.6464\n",
      "Epoch 700, Loss: 0.6455\n",
      "Epoch 800, Loss: 0.6447\n",
      "Epoch 900, Loss: 0.6440\n",
      "Epoch 1000, Loss: 0.6434\n",
      "Epoch 1100, Loss: 0.6428\n",
      "Epoch 1200, Loss: 0.6424\n",
      "Epoch 1300, Loss: 0.6420\n",
      "Epoch 1400, Loss: 0.6417\n",
      "Epoch 1500, Loss: 0.6415\n",
      "Best validation loss: 0.6382541656494141\n"
     ]
    }
   ],
   "source": [
    "num_components = len(attributes[0])\n",
    "\n",
    "\"データセット\"\n",
    "data_X1 = [[0] * num_components for _ in range(len(train_data1))]\n",
    "# 初期状態から前半テスト、前半テストから後半テスト\n",
    "data_X = np.concatenate([data_X1, train_data1], axis=0)\n",
    "data_Y = np.concatenate([train_data1, train_data2], axis=0)\n",
    "\n",
    "# 同期シャッフル用のインデックスを生成\n",
    "shuffle_data = np.random.permutation(data_X.shape[0])\n",
    "\n",
    "# インデックスを適用してシャッフル\n",
    "data_X = data_X[shuffle_data]\n",
    "data_Y = data_Y[shuffle_data]\n",
    "\n",
    "\"モデル定義\"\n",
    "# モデル、損失関数、最適化関数の設定\n",
    "upper_model = Model(num_components)  # 要素数+初期状態\n",
    "criterion = nn.BCEWithLogitsLoss()\n",
    "optimizer = optim.Adam(upper_model.parameters(), lr=args.lr)\n",
    "\n",
    "upper_model = upper_model.to(device)\n",
    "\n",
    "upper_train, upper_val = model_train(attributes, data_X, data_Y, args, upper_model, criterion, optimizer, upper_save_path)\n",
    "\n",
    "# for trial in range(args.trials):\n",
    "#     print(f\"Trial: {trial+1}\")"
   ]
  },
  {
   "cell_type": "code",
   "execution_count": 33,
   "metadata": {},
   "outputs": [
    {
     "data": {
      "image/png": "[encoded data removed]",
      "text/plain": [
       "<Figure size 640x480 with 1 Axes>"
      ]
     },
     "metadata": {},
     "output_type": "display_data"
    }
   ],
   "source": [
    "import networkx as nx\n",
    "import matplotlib.pyplot as plt\n",
    "\n",
    "plt.plot(upper_train, label='Training Loss')\n",
    "plt.plot(upper_val, label='Validation Loss', linestyle='--')\n",
    "plt.xlabel('Epoch')\n",
    "plt.ylabel('Loss')\n",
    "plt.title('Training and Validation Loss per Epoch')\n",
    "plt.legend()\n",
    "plt.show()"
   ]
  },
  {
   "cell_type": "markdown",
   "metadata": {},
   "source": [
    "### 提案手法"
   ]
  },
  {
   "cell_type": "code",
   "execution_count": 34,
   "metadata": {},
   "outputs": [
    {
     "name": "stdout",
     "output_type": "stream",
     "text": [
      "n_components 16\n",
      "n_s 283\n",
      "Train data: 175, Validation data: 51\n",
      "Train X: torch.Size([175, 16]), Train Y: torch.Size([175, 16])\n",
      "Epoch 100, Loss: 0.6572\n",
      "Epoch 200, Loss: 0.6369\n",
      "Epoch 300, Loss: 0.6283\n",
      "Epoch 400, Loss: 0.6234\n",
      "Epoch 500, Loss: 0.6192\n",
      "Epoch 600, Loss: 0.6159\n",
      "Epoch 700, Loss: 0.6132\n",
      "Epoch 800, Loss: 0.6112\n",
      "Epoch 900, Loss: 0.6094\n",
      "Epoch 1000, Loss: 0.6078\n",
      "Epoch 1100, Loss: 0.6065\n",
      "Epoch 1200, Loss: 0.6053\n",
      "Epoch 1300, Loss: 0.6043\n",
      "Epoch 1400, Loss: 0.6034\n",
      "Epoch 1500, Loss: 0.6026\n",
      "Best validation loss: 0.5928702354431152\n"
     ]
    }
   ],
   "source": [
    "num_components = len(attributes[0])\n",
    "\n",
    "\"データセット\"\n",
    "data_X = [[0] * num_components for _ in range(len(train_data1))]\n",
    "data_Y = train_data1\n",
    "\n",
    "\"モデル定義\"\n",
    "# モデル、損失関数、最適化関数の設定\n",
    "proposed_model = Model(num_components)  # 要素数+初期状態\n",
    "criterion = nn.BCEWithLogitsLoss()\n",
    "optimizer = optim.Adam(proposed_model.parameters(), lr=args.lr)\n",
    "\n",
    "proposed_model = proposed_model.to(device)\n",
    "\n",
    "proposed_train, proposed_val = model_train(attributes, data_X, data_Y, args, proposed_model, criterion, optimizer, proposed_save_path)"
   ]
  },
  {
   "cell_type": "code",
   "execution_count": 35,
   "metadata": {},
   "outputs": [
    {
     "data": {
      "image/png": "[encoded data removed]",
      "text/plain": [
       "<Figure size 640x480 with 1 Axes>"
      ]
     },
     "metadata": {},
     "output_type": "display_data"
    }
   ],
   "source": [
    "import networkx as nx\n",
    "import matplotlib.pyplot as plt\n",
    "\n",
    "plt.plot(proposed_train, label='Training Loss')\n",
    "plt.plot(proposed_val, label='Validation Loss', linestyle='--')\n",
    "plt.xlabel('Epoch')\n",
    "plt.ylabel('Loss')\n",
    "plt.title('Training and Validation Loss per Epoch')\n",
    "plt.legend()\n",
    "plt.show()"
   ]
  },
  {
   "cell_type": "markdown",
   "metadata": {},
   "source": [
    "#### モデルのロード"
   ]
  },
  {
   "cell_type": "code",
   "execution_count": 36,
   "metadata": {},
   "outputs": [
    {
     "name": "stderr",
     "output_type": "stream",
     "text": [
      "/var/folders/zg/773ptkr55z99zw26dvy19_v00000gn/T/ipykernel_17960/1111777210.py:8: FutureWarning: You are using `torch.load` with `weights_only=False` (the current default value), which uses the default pickle module implicitly. It is possible to construct malicious pickle data which will execute arbitrary code during unpickling (See https://github.com/pytorch/pytorch/blob/main/SECURITY.md#untrusted-models for more details). In a future release, the default value for `weights_only` will be flipped to `True`. This limits the functions that could be executed during unpickling. Arbitrary objects will no longer be allowed to be loaded via this mode unless they are explicitly allowlisted by the user via `torch.serialization.add_safe_globals`. We recommend you start setting `weights_only=True` for any use case where you don't have full control of the loaded file. Please open an issue on GitHub for any issues related to this experimental feature.\n",
      "  upper_model.load_state_dict(torch.load(upper_save_path))\n",
      "/var/folders/zg/773ptkr55z99zw26dvy19_v00000gn/T/ipykernel_17960/1111777210.py:9: FutureWarning: You are using `torch.load` with `weights_only=False` (the current default value), which uses the default pickle module implicitly. It is possible to construct malicious pickle data which will execute arbitrary code during unpickling (See https://github.com/pytorch/pytorch/blob/main/SECURITY.md#untrusted-models for more details). In a future release, the default value for `weights_only` will be flipped to `True`. This limits the functions that could be executed during unpickling. Arbitrary objects will no longer be allowed to be loaded via this mode unless they are explicitly allowlisted by the user via `torch.serialization.add_safe_globals`. We recommend you start setting `weights_only=True` for any use case where you don't have full control of the loaded file. Please open an issue on GitHub for any issues related to this experimental feature.\n",
      "  proposed_model.load_state_dict(torch.load(proposed_save_path))\n"
     ]
    },
    {
     "data": {
      "text/plain": [
       "Model(\n",
       "  (fc): Linear(in_features=16, out_features=16, bias=True)\n",
       ")"
      ]
     },
     "execution_count": 36,
     "metadata": {},
     "output_type": "execute_result"
    }
   ],
   "source": [
    "num_components = len(attributes[0])\n",
    "\n",
    "# モデルのインスタンスを作成\n",
    "upper_model = Model(num_components)\n",
    "proposed_model = Model(num_components)\n",
    "\n",
    "# 保存した `state_dict` をロード\n",
    "upper_model.load_state_dict(torch.load(upper_save_path))\n",
    "proposed_model.load_state_dict(torch.load(proposed_save_path))\n",
    "\n",
    "# モデルを適切なデバイスへ移動\n",
    "upper_model = upper_model.to(device)\n",
    "proposed_model = proposed_model.to(device)\n",
    "\n",
    "# 推論モードに設定\n",
    "upper_model.eval()\n",
    "proposed_model.eval()"
   ]
  },
  {
   "cell_type": "code",
   "execution_count": null,
   "metadata": {},
   "outputs": [
    {
     "name": "stdout",
     "output_type": "stream",
     "text": [
      "1ビット違いの状態のペアの数: 152\n"
     ]
    }
   ],
   "source": [
    "states = [state for state in itertools.product([0, 1], repeat=num_components)]\n",
    "states = sorted(states, key=lambda state: sum(state))\n",
    "\n",
    "# 状態ごとの学生数をカウント\n",
    "state_counts = defaultdict(int)\n",
    "for i in range(len(attributes)):\n",
    "    state_tuple = tuple(map(int, attributes[i]))\n",
    "    state_counts[state_tuple] += 1\n",
    "\n",
    "# 0でないものだけを表示\n",
    "filtered_counts = {state: count for state, count in state_counts.items() if count > 0}\n",
    "\n",
    "# # 表示\n",
    "# for state, count in filtered_counts.items():\n",
    "#     print(f\"State: {state}, Count: {count}\")\n",
    "# print(state_counts[(0, 1, 0, 0, 0, 1, 0, 0, 0, 0, 0, 0, 0, 1, 1, 0)])\n",
    "\n",
    "import itertools\n",
    "from collections import defaultdict\n",
    "\n",
    "# 状態リスト\n",
    "num_components = 16\n",
    "states = [state for state in itertools.product([0, 1], repeat=num_components)]\n",
    "states = sorted(states, key=lambda state: sum(state))\n",
    "\n",
    "# 状態ごとのカウント\n",
    "state_counts = defaultdict(int)\n",
    "for i in range(len(attributes)):\n",
    "    state_tuple = tuple(map(int, attributes[i]))\n",
    "    state_counts[state_tuple] += 1\n",
    "\n",
    "# 0 でないものだけを取得\n",
    "filtered_states = [state for state, count in state_counts.items() if count > 0]\n",
    "\n",
    "# ハミング距離1のペアをカウントする関数\n",
    "def count_one_bit_difference_pairs(state_list):\n",
    "    state_set = set(state_list)  # 高速検索用にセット化\n",
    "    count = 0\n",
    "\n",
    "    checked_pairs = set()  # 既にチェックしたペアを保存（重複を防ぐ）\n",
    "\n",
    "    for state in state_list:\n",
    "        for i in range(num_components):  # 各ビットについて\n",
    "            flipped_state = tuple(state[j] if j != i else 1 - state[j] for j in range(num_components))  # 1ビット反転\n",
    "            \n",
    "            # 反転した状態がリスト内にあり、まだカウントしていないペアならカウント\n",
    "            if flipped_state in state_set and (state, flipped_state) not in checked_pairs and (flipped_state, state) not in checked_pairs:\n",
    "                count += 1\n",
    "                checked_pairs.add((state, flipped_state))  # ペアを記録\n",
    "\n",
    "    return count\n",
    "\n",
    "# 実行\n",
    "pair_count = count_one_bit_difference_pairs(filtered_states)\n",
    "print(\"1ビット違いの状態のペアの数:\", pair_count)"
   ]
  },
  {
   "cell_type": "code",
   "execution_count": 38,
   "metadata": {},
   "outputs": [],
   "source": [
    "predicted_attributes = []\n",
    "upper_predicted_attributes = []\n",
    "com_proposed_input = []\n",
    "num_components = len(test_input[0])\n",
    "for i in range(len(test_input)):\n",
    "    # 提案モデル\n",
    "    attribute = torch.tensor(test_input[i], dtype=torch.float32)\n",
    "    c = torch.ones(num_components, dtype=torch.float32)\n",
    "    c = c - attribute\n",
    "    get_attribute = test_target[i]\n",
    "    for _ in range(int(sum(get_attribute))):\n",
    "        if c.sum() <= 1:\n",
    "            prob = c\n",
    "        else:\n",
    "            prob = proposed_model(attribute , c)  # 状態から遷移確率を計算\n",
    "        attribute = prob + attribute  # 状態の更新\n",
    "        c = relu(c - prob)  # 予算の更新\n",
    "\n",
    "    # 上限モデル\n",
    "    upper_attribute = torch.tensor(test_input[i], dtype=torch.float32)\n",
    "    upper_c = torch.ones(num_components, dtype=torch.float32)\n",
    "    upper_c = upper_c - upper_attribute\n",
    "    get_attribute = test_target[i]\n",
    "    for _ in range(int(sum(get_attribute))):\n",
    "        if upper_c.sum() <= 1:\n",
    "            upper_prob = upper_c\n",
    "        else:\n",
    "            upper_prob = upper_model(upper_attribute , upper_c)  # 状態から遷移確率を計算\n",
    "        upper_attribute = upper_prob + upper_attribute  # 状態の更新\n",
    "        upper_c = relu(upper_c - upper_prob)  # 予算の更新\n",
    "\n",
    "    # 比較\n",
    "    com_prob = []\n",
    "    total = 0\n",
    "    for j in range(num_components):\n",
    "        if attribute[j] == 0 and sum(get_attribute) != 0:\n",
    "            next_attribute = list(attribute.tolist())\n",
    "            next_attribute[j] = 1\n",
    "            next_attribute = tuple(next_attribute)\n",
    "            # print(state_counts[next_attribute])\n",
    "            com_prob.append(state_counts[next_attribute])\n",
    "            total += state_counts[next_attribute]\n",
    "        else:\n",
    "            com_prob.append(0)\n",
    "    if total != 0 and sum(get_attribute) != 0:\n",
    "        # print(np.array(com_prob)/total)\n",
    "        com_proposed_input.append(np.array(com_prob)/total)\n",
    "    else:\n",
    "        com_proposed_input.append(com_prob)\n",
    "\n",
    "    predicted_attributes.append(attribute.detach().numpy()-test_input[i])\n",
    "    upper_predicted_attributes.append(upper_attribute.detach().numpy()-test_input[i])"
   ]
  },
  {
   "cell_type": "code",
   "execution_count": 68,
   "metadata": {},
   "outputs": [
    {
     "name": "stdout",
     "output_type": "stream",
     "text": [
      "[0.0368932  0.04902913 0.03203883 0.01699029 0.09951456 0.09854369\n",
      " 0.09854369 0.09029126 0.07475728 0.07475728 0.09029126 0.02378641\n",
      " 0.08058252 0.03786408 0.06699029 0.02912621]\n",
      "aaa\n",
      "(57, 16)\n",
      "(16,)\n",
      "Average accuracy: 0.7285\n",
      "Average upper accuracy: 0.7237\n",
      "Average random accuracy: 0.4700\n",
      "Average difficulties accuracy: 0.7237\n",
      "0.7284580498866213 0.7236961451247167 0.7236961451247167 0.4699546485260771\n",
      "難易度ベースとの出力一致率: 0.9714\n",
      "難易度ベースとの出力一致率（上限モデル）: 1.0000\n",
      "Cross Entropy: 0.6812\n",
      "Upper Cross Entropy: 0.6743\n",
      "Difficulty Cross Entropy: 0.9876\n",
      "Uniform Cross Entropy: 1.1096\n",
      "Average proposed score: 1.8780\n",
      "Average upper proposed score: 1.8546\n",
      "Average random score: 0.7702\n",
      "Average difficulties score: 0.7237\n"
     ]
    }
   ],
   "source": [
    "import numpy as np\n",
    "\n",
    "difficulties = np.sum(train_data1, axis=0)  # 難易度（各スキルの出現回数）\n",
    "difficulties = difficulties / difficulties.sum()  # 正規化\n",
    "print(difficulties)\n",
    "# difficulties2 = np.sum(train_data1+train_data2, axis=0)\n",
    "# difficulties = difficulties2 + difficulties\n",
    "# print(difficulties)\n",
    "\n",
    "top_k_accuracies = []\n",
    "upper_topk_accuracies = []\n",
    "top_k_random_accuracies = []\n",
    "top_k_difficulties_accuracies = []\n",
    "\n",
    "match_rate = []\n",
    "upper_match_rate = []\n",
    "\n",
    "proposed_scores = []\n",
    "upper_proposed_scores = []\n",
    "random_scores = []\n",
    "difficulties_scores = []\n",
    "\n",
    "ce = []\n",
    "upper_ce = []\n",
    "d_ce = []\n",
    "uniform_ce = []\n",
    "\n",
    "for i in range(len(test_target)):\n",
    "    get_attribute = test_target[i]\n",
    "    k = int(sum(get_attribute))  # 1の個数を取得（明示的に int に変換）\n",
    "\n",
    "    if k == 0:\n",
    "        continue  # 1がない場合はスキップ\n",
    "    \n",
    "    # get_attribute の 1 の部分のインデックスを取得\n",
    "    true_top_k = set(np.where(get_attribute == 1)[0])\n",
    "\n",
    "    # predicted_attributes[i] の上位 k 個のインデックスを取得\n",
    "    pred_top_k = set(np.argsort(predicted_attributes[i])[-k:])  # k を int に変換したのでOK\n",
    "    upper_pred_top_k = set(np.argsort(upper_predicted_attributes[i])[-k:])\n",
    "    # 一致するインデックスの数を計算\n",
    "    accuracy = len(pred_top_k & true_top_k) / k  # 一致数 / k で正解率を計算\n",
    "    upper_accuracy = len(upper_pred_top_k & true_top_k) / k\n",
    "    \n",
    "    # ランダム\n",
    "    random_top_k = set(np.where(test_input[i] == 0)[0])\n",
    "    random_top_k = set(np.random.choice(list(random_top_k), k, replace=False))\n",
    "    # 一致率を計算\n",
    "    random_accuracy = len(random_top_k & true_top_k) / k\n",
    "\n",
    "    # 難易度ベース\n",
    "    candidate_indices = np.where(test_input[i] == 0)[0]  # [1, 3, 4]\n",
    "    candidate_difficulties = difficulties[candidate_indices]\n",
    "    sorted_indices = candidate_indices[np.argsort(candidate_difficulties)[::-1]]\n",
    "    top_k_indices = sorted_indices[:k]\n",
    "    difficulties_accuracy = len(set(top_k_indices) & true_top_k) / k\n",
    "\n",
    "    top_k_accuracies.append(accuracy)\n",
    "    top_k_random_accuracies.append(random_accuracy)\n",
    "    upper_topk_accuracies.append(upper_accuracy)\n",
    "    top_k_difficulties_accuracies.append(difficulties_accuracy)\n",
    "\n",
    "    # 補正スコア\n",
    "    difficulty_sum = sum(difficulties[j] for j in random_top_k)\n",
    "    # print(len(true_top_k))\n",
    "    # print(len(pred_top_k & true_top_k))\n",
    "    # print(\"accuracy\", accuracy)\n",
    "    # for j in pred_top_k & true_top_k:\n",
    "    #     value = predicted_attributes[i][j]\n",
    "    #     difficulty = (difficulties[j] / difficulty_sum)\n",
    "    #     print(f\"predicted_attributes[{i}][{j}] = {value}, difficulties[{j}] = {difficulty}\")\n",
    "    #     # 必要に応じて計算結果も出力\n",
    "    #     print(f\" → {value} / {difficulty} = {value / difficulty}\")\n",
    "    proposed_score = sum(predicted_attributes[i][j]/(difficulties[j] / difficulty_sum) for j in pred_top_k & true_top_k)/k\n",
    "    # print(proposed_score)\n",
    "    proposed_scores.append(proposed_score)\n",
    "    upper_proposed_score = sum(upper_predicted_attributes[i][j]/(difficulties[j] / difficulty_sum) for j in upper_pred_top_k & true_top_k)/k\n",
    "    upper_proposed_scores.append(upper_proposed_score)\n",
    "    random_score = sum((1/len(random_top_k & true_top_k))/(difficulties[j] / difficulty_sum) for j in random_top_k & true_top_k)/k\n",
    "    random_scores.append(random_score)\n",
    "    difficulties_score = sum(1 for j in set(top_k_indices) & true_top_k)/k\n",
    "    difficulties_scores.append(difficulties_score)\n",
    "\n",
    "    # print(\"diff\", len(pred_top_k&set(top_k_indices)), len(upper_pred_top_k&set(top_k_indices))/k, upper_proposed_score)\n",
    "    match_rate.append(len(pred_top_k&set(top_k_indices))/k)\n",
    "    upper_match_rate.append(len(upper_pred_top_k&set(top_k_indices))/k)\n",
    "\n",
    "    ce.append(-np.mean(np.log(predicted_attributes[i][list(true_top_k)])))\n",
    "    upper_ce.append(-np.mean(np.log(upper_predicted_attributes[i][list(true_top_k)])))\n",
    "    d_ce.append(-np.mean(np.log(difficulties[list(true_top_k)]/difficulty_sum)))\n",
    "    uniform_ce.append(-np.log(1/len(list(true_top_k))))\n",
    "\n",
    "\n",
    "\n",
    "print(\"aaa\")\n",
    "print(np.array(predicted_attributes).shape)\n",
    "print(difficulties.shape)\n",
    "# 平均を計算（リストが空でない場合のみ）\n",
    "average_accuracy = np.mean(top_k_accuracies) if top_k_accuracies else 0.0\n",
    "average_random_accuracy = np.mean(top_k_random_accuracies) if top_k_random_accuracies else 0.0\n",
    "average_upper_accuracy = np.mean(upper_topk_accuracies) if upper_topk_accuracies else 0.0\n",
    "average_difficulties_accuracy = np.mean(top_k_difficulties_accuracies) if top_k_difficulties_accuracies else 0.0\n",
    "\n",
    "average_match_rate = np.mean(match_rate) if match_rate else 0.0\n",
    "average_upper_match_rate = np.mean(upper_match_rate) if upper_match_rate else 0.0\n",
    "\n",
    "ce = np.mean(ce) if ce else 0.0\n",
    "upper_ce = np.mean(upper_ce) if upper_ce else 0.0\n",
    "d_ce = np.mean(d_ce) if d_ce else 0.0\n",
    "uniform_ce = np.mean(uniform_ce) if uniform_ce else 0.0\n",
    "\n",
    "average_proposed_score = np.mean(proposed_scores) if proposed_scores else 0.0\n",
    "average_upper_proposed_score = np.mean(upper_proposed_scores) if upper_proposed_scores else 0.0\n",
    "average_random_score = np.mean(random_scores) if random_scores else 0.0\n",
    "average_difficulties_score = np.mean(difficulties_scores) if difficulties_scores else 0.0\n",
    "\n",
    "# 結果の表示\n",
    "# print(f\"Top-k accuracies: {top_k_accuracies}\")\n",
    "# print(f\"Top-k random accuracies: {top_k_random_accuracies}\") # ランダムの場合\n",
    "# print(f\"Upper Top-k accuracies: {upper_topk_accuracies}\")\n",
    "# print(f\"Top-k difficulties accuracies: {top_k_difficulties_accuracies}\")\n",
    "\n",
    "print(f\"Average accuracy: {average_accuracy:.4f}\")\n",
    "print(f\"Average upper accuracy: {average_upper_accuracy:.4f}\")\n",
    "print(f\"Average random accuracy: {average_random_accuracy:.4f}\")\n",
    "print(f\"Average difficulties accuracy: {average_difficulties_accuracy:.4f}\")\n",
    "print(average_accuracy, average_upper_accuracy, average_difficulties_accuracy, average_random_accuracy)\n",
    "\n",
    "print(f\"難易度ベースとの出力一致率: {average_match_rate:.4f}\")\n",
    "print(f\"難易度ベースとの出力一致率（上限モデル）: {average_upper_match_rate:.4f}\")\n",
    "\n",
    "# 値が小さい方が良い\n",
    "print(f\"Cross Entropy: {ce:.4f}\")\n",
    "print(f\"Upper Cross Entropy: {upper_ce:.4f}\")\n",
    "print(f\"Difficulty Cross Entropy: {d_ce:.4f}\")\n",
    "print(f\"Uniform Cross Entropy: {uniform_ce:.4f}\")\n",
    "\n",
    "# あんま変わらん？\n",
    "# 補正スコア\n",
    "print(f\"Average proposed score: {average_proposed_score:.4f}\")\n",
    "print(f\"Average upper proposed score: {average_upper_proposed_score:.4f}\")\n",
    "print(f\"Average random score: {average_random_score:.4f}\")\n",
    "print(f\"Average difficulties score: {average_difficulties_score:.4f}\")"
   ]
  },
  {
   "cell_type": "code",
   "execution_count": null,
   "metadata": {},
   "outputs": [
    {
     "name": "stdout",
     "output_type": "stream",
     "text": [
      "Parameter containing:\n",
      "tensor([[     0.000,     -0.000,     -0.000,     -0.000,     -0.001,     -0.334,\n",
      "             -0.002,     -0.033,     -0.000,     -0.001,      0.000,      0.000,\n",
      "             -0.000,     -0.000,      0.000,      0.000],\n",
      "        [     0.000,     -0.000,      0.000,      0.000,      0.000,      0.000,\n",
      "              0.000,      0.000,      0.000,      0.000,      0.000,     -0.000,\n",
      "             -0.000,      0.000,      0.000,      0.000],\n",
      "        [     0.000,      0.000,      0.000,      0.000,     -0.116,     -0.404,\n",
      "             -0.511,     -0.365,     -0.000,     -0.001,     -0.065,     -0.000,\n",
      "             -0.062,     -0.000,     -0.001,     -0.000],\n",
      "        [    -0.000,     -0.000,     -0.000,      0.000,     -0.222,     -0.225,\n",
      "             -0.263,     -0.424,      0.000,     -0.130,     -0.717,     -0.000,\n",
      "             -0.078,     -0.000,     -0.126,      0.000],\n",
      "        [     0.000,     -0.000,     -0.000,      0.000,      0.001,      0.000,\n",
      "              0.017,      0.172,      0.000,      0.000,      0.000,     -0.000,\n",
      "              0.000,      0.000,      0.000,     -0.000],\n",
      "        [    -0.000,      0.000,     -0.000,     -0.000,      0.002,      0.250,\n",
      "              0.001,      0.300,      0.000,      0.000,      0.000,      0.000,\n",
      "              0.000,      0.000,      0.000,     -0.000],\n",
      "        [     0.000,      0.000,      0.000,      0.000,     -0.000,      0.042,\n",
      "              0.000,      0.072,      0.000,      0.000,      0.210,     -0.000,\n",
      "              0.001,      0.000,      0.000,     -0.000],\n",
      "        [    -0.000,      0.000,     -0.000,     -0.000,     -0.000,      0.000,\n",
      "              0.000,     -0.000,      0.000,      0.000,      0.000,      0.000,\n",
      "             -0.000,      0.000,      0.000,      0.000],\n",
      "        [    -0.000,     -0.000,      0.000,      0.000,      0.000,      0.000,\n",
      "              0.000,      0.000,      0.000,      0.000,      0.000,     -0.000,\n",
      "              0.000,      0.000,      0.000,     -0.000],\n",
      "        [     0.000,      0.000,     -0.000,      0.000,      0.000,      0.000,\n",
      "              0.000,      0.000,      0.000,      0.000,      0.000,      0.000,\n",
      "             -0.000,      0.000,      0.000,     -0.000],\n",
      "        [     0.000,     -0.000,     -0.000,      0.000,     -0.000,      0.000,\n",
      "              0.001,      0.000,      0.000,      0.000,      0.000,      0.000,\n",
      "             -0.000,      0.000,      0.000,     -0.000],\n",
      "        [    -0.000,     -0.000,     -0.000,     -0.000,     -0.066,     -0.147,\n",
      "             -0.510,     -0.099,     -0.000,     -0.000,     -0.473,     -0.000,\n",
      "             -0.218,     -0.000,     -0.000,     -0.000],\n",
      "        [    -0.000,      0.000,     -0.000,      0.000,      0.000,      0.000,\n",
      "              0.000,      0.000,      0.000,     -0.000,     -0.000,     -0.000,\n",
      "              0.000,     -0.000,      0.000,      0.000],\n",
      "        [    -0.000,     -0.000,      0.000,     -0.000,     -0.222,     -0.046,\n",
      "             -0.010,     -0.041,     -0.000,      0.000,     -0.004,     -0.000,\n",
      "             -0.001,     -0.000,     -0.000,     -0.000],\n",
      "        [    -0.000,     -0.000,     -0.000,      0.000,     -0.000,     -0.000,\n",
      "             -0.000,      0.000,      0.000,     -0.000,     -0.000,      0.000,\n",
      "              0.000,      0.000,      0.000,     -0.000],\n",
      "        [    -0.000,     -0.000,     -0.000,      0.000,     -0.333,     -0.124,\n",
      "             -0.017,     -0.297,     -0.000,     -0.001,     -0.001,     -0.000,\n",
      "             -0.001,      0.000,     -0.000,      0.000]], requires_grad=True)\n",
      "Parameter containing:\n",
      "tensor([    -1.001,     -0.476,     -0.504,     -0.540,      0.762,      0.782,\n",
      "             0.707,      0.844,      0.000,      0.000,      0.735,     -0.801,\n",
      "             0.563,     -0.837,     -0.000,     -1.072], requires_grad=True)\n",
      "Parameter containing:\n",
      "tensor([[     0.000,     -0.000,     -0.000,      0.000,     -0.000,     -0.000,\n",
      "             -0.000,      0.000,      0.000,     -0.000,     -0.000,      0.000,\n",
      "             -0.000,      0.000,     -0.000,      0.000],\n",
      "        [    -0.000,     -0.000,      0.000,     -0.000,      0.000,      0.000,\n",
      "             -0.000,      0.000,      0.000,     -0.001,     -0.000,      0.000,\n",
      "             -0.000,      0.000,      0.000,     -0.000],\n",
      "        [     0.000,     -0.000,      0.000,      0.000,     -0.041,     -0.122,\n",
      "             -0.106,     -0.001,     -0.000,     -0.001,     -0.001,      0.000,\n",
      "             -0.002,     -0.000,     -0.000,      0.000],\n",
      "        [     0.000,     -0.000,      0.000,     -0.000,     -0.154,     -0.388,\n",
      "             -0.196,     -0.506,     -0.000,     -0.000,     -0.392,     -0.000,\n",
      "             -0.041,     -0.000,     -0.000,     -0.000],\n",
      "        [    -0.000,      0.000,     -0.000,      0.000,      0.000,      0.278,\n",
      "              0.001,      0.000,      0.000,      0.000,      0.000,      0.000,\n",
      "              0.000,      0.000,      0.000,     -0.000],\n",
      "        [    -0.000,     -0.000,      0.000,     -0.000,     -0.000,     -0.000,\n",
      "             -0.000,      0.000,     -0.000,      0.000,     -0.000,      0.000,\n",
      "             -0.000,     -0.000,     -0.000,      0.000],\n",
      "        [    -0.000,     -0.000,      0.000,     -0.000,     -0.000,      0.000,\n",
      "             -0.000,     -0.000,      0.000,      0.000,      0.000,     -0.000,\n",
      "             -0.000,      0.000,      0.000,      0.000],\n",
      "        [     0.000,      0.000,     -0.000,      0.000,      0.000,      0.001,\n",
      "              0.001,     -0.000,      0.000,      0.000,     -0.000,      0.000,\n",
      "              0.000,      0.000,      0.000,      0.000],\n",
      "        [    -0.000,     -0.000,     -0.000,     -0.000,      0.001,      0.000,\n",
      "              0.000,      0.001,      0.000,      0.000,      0.000,      0.000,\n",
      "              0.000,      0.000,      0.000,     -0.000],\n",
      "        [     0.000,      0.000,      0.000,      0.000,      0.001,      0.000,\n",
      "              0.001,      0.000,      0.001,      0.000,      0.002,      0.000,\n",
      "              0.000,      0.000,      0.000,      0.000],\n",
      "        [     0.000,      0.000,      0.000,     -0.000,      0.000,      0.002,\n",
      "              0.000,      0.000,      0.000,      0.000,      0.000,      0.000,\n",
      "              0.000,     -0.000,      0.000,     -0.000],\n",
      "        [    -0.000,      0.000,      0.000,      0.000,     -0.289,     -0.496,\n",
      "             -0.182,     -0.223,     -0.000,     -0.000,     -0.348,      0.000,\n",
      "             -0.416,      0.000,     -0.000,     -0.000],\n",
      "        [     0.000,     -0.000,     -0.000,      0.000,      0.000,      0.000,\n",
      "              0.000,     -0.000,      0.000,      0.000,     -0.000,      0.000,\n",
      "             -0.000,     -0.000,      0.000,     -0.000],\n",
      "        [    -0.000,      0.000,     -0.000,     -0.000,     -0.000,      0.000,\n",
      "             -0.001,     -0.001,     -0.000,      0.000,     -0.000,     -0.000,\n",
      "             -0.000,     -0.000,      0.000,     -0.000],\n",
      "        [     0.000,     -0.000,     -0.000,      0.000,      0.000,      0.000,\n",
      "              0.000,     -0.000,      0.000,      0.000,      0.000,     -0.000,\n",
      "              0.001,      0.000,      0.000,     -0.000],\n",
      "        [     0.000,     -0.000,     -0.000,     -0.000,     -0.001,     -0.356,\n",
      "             -0.000,     -0.000,     -0.000,     -0.000,     -0.000,     -0.000,\n",
      "             -0.000,      0.000,      0.000,     -0.000]], requires_grad=True)\n",
      "Parameter containing:\n",
      "tensor([    -1.015,     -0.176,     -1.032,     -0.934,      0.644,      1.165,\n",
      "             0.994,      0.806,      0.000,      0.000,      0.618,     -0.604,\n",
      "             0.336,     -0.737,     -0.000,     -0.990], requires_grad=True)\n"
     ]
    }
   ],
   "source": [
    "# 表示オプションを設定（有効数字3桁）\n",
    "torch.set_printoptions(precision=3, sci_mode=False)\n",
    "\n",
    "for param in proposed_model.parameters():\n",
    "    print(param)\n",
    "\n",
    "for param in upper_model.parameters():\n",
    "    print(param)"
   ]
  }
 ],
 "metadata": {
  "kernelspec": {
   "display_name": "KT",
   "language": "python",
   "name": "python3"
  },
  "language_info": {
   "codemirror_mode": {
    "name": "ipython",
    "version": 3
   },
   "file_extension": ".py",
   "mimetype": "text/x-python",
   "name": "python",
   "nbconvert_exporter": "python",
   "pygments_lexer": "ipython3",
   "version": "3.9.6"
  }
 },
 "nbformat": 4,
 "nbformat_minor": 2
}
